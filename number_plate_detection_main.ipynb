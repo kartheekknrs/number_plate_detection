{
  "nbformat": 4,
  "nbformat_minor": 0,
  "metadata": {
    "colab": {
      "provenance": [],
      "gpuType": "T4",
      "include_colab_link": true
    },
    "kernelspec": {
      "name": "python3",
      "display_name": "Python 3"
    },
    "language_info": {
      "name": "python"
    },
    "accelerator": "GPU"
  },
  "cells": [
    {
      "cell_type": "markdown",
      "metadata": {
        "id": "view-in-github",
        "colab_type": "text"
      },
      "source": [
        "<a href=\"https://colab.research.google.com/github/kartheekknrs/number_plate_detection/blob/main/number_plate_detection_main.ipynb\" target=\"_parent\"><img src=\"https://colab.research.google.com/assets/colab-badge.svg\" alt=\"Open In Colab\"/></a>"
      ]
    },
    {
      "cell_type": "code",
      "execution_count": 2,
      "metadata": {
        "colab": {
          "base_uri": "https://localhost:8080/"
        },
        "id": "Ex4TGZZXdsLZ",
        "outputId": "1d7daade-c2ab-46d4-912f-162a69791c5e"
      },
      "outputs": [
        {
          "output_type": "stream",
          "name": "stdout",
          "text": [
            "Requirement already satisfied: roboflow in /usr/local/lib/python3.11/dist-packages (1.1.61)\n",
            "Requirement already satisfied: certifi in /usr/local/lib/python3.11/dist-packages (from roboflow) (2025.1.31)\n",
            "Requirement already satisfied: idna==3.7 in /usr/local/lib/python3.11/dist-packages (from roboflow) (3.7)\n",
            "Requirement already satisfied: cycler in /usr/local/lib/python3.11/dist-packages (from roboflow) (0.12.1)\n",
            "Requirement already satisfied: kiwisolver>=1.3.1 in /usr/local/lib/python3.11/dist-packages (from roboflow) (1.4.8)\n",
            "Requirement already satisfied: matplotlib in /usr/local/lib/python3.11/dist-packages (from roboflow) (3.10.0)\n",
            "Requirement already satisfied: numpy>=1.18.5 in /usr/local/lib/python3.11/dist-packages (from roboflow) (2.0.2)\n",
            "Requirement already satisfied: opencv-python-headless==4.10.0.84 in /usr/local/lib/python3.11/dist-packages (from roboflow) (4.10.0.84)\n",
            "Requirement already satisfied: Pillow>=7.1.2 in /usr/local/lib/python3.11/dist-packages (from roboflow) (11.1.0)\n",
            "Requirement already satisfied: pillow-heif>=0.18.0 in /usr/local/lib/python3.11/dist-packages (from roboflow) (0.22.0)\n",
            "Requirement already satisfied: python-dateutil in /usr/local/lib/python3.11/dist-packages (from roboflow) (2.8.2)\n",
            "Requirement already satisfied: python-dotenv in /usr/local/lib/python3.11/dist-packages (from roboflow) (1.1.0)\n",
            "Requirement already satisfied: requests in /usr/local/lib/python3.11/dist-packages (from roboflow) (2.32.3)\n",
            "Requirement already satisfied: six in /usr/local/lib/python3.11/dist-packages (from roboflow) (1.17.0)\n",
            "Requirement already satisfied: urllib3>=1.26.6 in /usr/local/lib/python3.11/dist-packages (from roboflow) (2.3.0)\n",
            "Requirement already satisfied: tqdm>=4.41.0 in /usr/local/lib/python3.11/dist-packages (from roboflow) (4.67.1)\n",
            "Requirement already satisfied: PyYAML>=5.3.1 in /usr/local/lib/python3.11/dist-packages (from roboflow) (6.0.2)\n",
            "Requirement already satisfied: requests-toolbelt in /usr/local/lib/python3.11/dist-packages (from roboflow) (1.0.0)\n",
            "Requirement already satisfied: filetype in /usr/local/lib/python3.11/dist-packages (from roboflow) (1.2.0)\n",
            "Requirement already satisfied: contourpy>=1.0.1 in /usr/local/lib/python3.11/dist-packages (from matplotlib->roboflow) (1.3.1)\n",
            "Requirement already satisfied: fonttools>=4.22.0 in /usr/local/lib/python3.11/dist-packages (from matplotlib->roboflow) (4.57.0)\n",
            "Requirement already satisfied: packaging>=20.0 in /usr/local/lib/python3.11/dist-packages (from matplotlib->roboflow) (24.2)\n",
            "Requirement already satisfied: pyparsing>=2.3.1 in /usr/local/lib/python3.11/dist-packages (from matplotlib->roboflow) (3.2.3)\n",
            "Requirement already satisfied: charset-normalizer<4,>=2 in /usr/local/lib/python3.11/dist-packages (from requests->roboflow) (3.4.1)\n",
            "loading Roboflow workspace...\n",
            "loading Roboflow project...\n"
          ]
        },
        {
          "output_type": "stream",
          "name": "stderr",
          "text": [
            "Downloading Dataset Version Zip in License-Plate-Recognition-11 to yolov11:: 100%|██████████| 527254/527254 [00:31<00:00, 16946.41it/s]"
          ]
        },
        {
          "output_type": "stream",
          "name": "stdout",
          "text": [
            "\n"
          ]
        },
        {
          "output_type": "stream",
          "name": "stderr",
          "text": [
            "\n",
            "Extracting Dataset Version Zip to License-Plate-Recognition-11 in yolov11:: 100%|██████████| 20262/20262 [00:03<00:00, 6308.79it/s]\n"
          ]
        }
      ],
      "source": [
        "!pip install roboflow\n",
        "\n",
        "from roboflow import Roboflow\n",
        "rf = Roboflow(api_key=\"BPXo2cyKUKZN95IBsvf2\")\n",
        "project = rf.workspace(\"roboflow-universe-projects\").project(\"license-plate-recognition-rxg4e\")\n",
        "version = project.version(11)\n",
        "dataset = version.download(\"yolov11\")\n",
        ""
      ]
    },
    {
      "cell_type": "code",
      "source": [
        "pip install ultralytics"
      ],
      "metadata": {
        "colab": {
          "base_uri": "https://localhost:8080/"
        },
        "id": "SWIefcK9eRxg",
        "outputId": "d35b5517-f628-4576-af9b-c83baba54ce5"
      },
      "execution_count": 3,
      "outputs": [
        {
          "output_type": "stream",
          "name": "stdout",
          "text": [
            "Collecting ultralytics\n",
            "  Downloading ultralytics-8.3.110-py3-none-any.whl.metadata (37 kB)\n",
            "Requirement already satisfied: numpy<=2.1.1,>=1.23.0 in /usr/local/lib/python3.11/dist-packages (from ultralytics) (2.0.2)\n",
            "Requirement already satisfied: matplotlib>=3.3.0 in /usr/local/lib/python3.11/dist-packages (from ultralytics) (3.10.0)\n",
            "Requirement already satisfied: opencv-python>=4.6.0 in /usr/local/lib/python3.11/dist-packages (from ultralytics) (4.11.0.86)\n",
            "Requirement already satisfied: pillow>=7.1.2 in /usr/local/lib/python3.11/dist-packages (from ultralytics) (11.1.0)\n",
            "Requirement already satisfied: pyyaml>=5.3.1 in /usr/local/lib/python3.11/dist-packages (from ultralytics) (6.0.2)\n",
            "Requirement already satisfied: requests>=2.23.0 in /usr/local/lib/python3.11/dist-packages (from ultralytics) (2.32.3)\n",
            "Requirement already satisfied: scipy>=1.4.1 in /usr/local/lib/python3.11/dist-packages (from ultralytics) (1.14.1)\n",
            "Requirement already satisfied: torch>=1.8.0 in /usr/local/lib/python3.11/dist-packages (from ultralytics) (2.6.0+cu124)\n",
            "Requirement already satisfied: torchvision>=0.9.0 in /usr/local/lib/python3.11/dist-packages (from ultralytics) (0.21.0+cu124)\n",
            "Requirement already satisfied: tqdm>=4.64.0 in /usr/local/lib/python3.11/dist-packages (from ultralytics) (4.67.1)\n",
            "Requirement already satisfied: psutil in /usr/local/lib/python3.11/dist-packages (from ultralytics) (5.9.5)\n",
            "Requirement already satisfied: py-cpuinfo in /usr/local/lib/python3.11/dist-packages (from ultralytics) (9.0.0)\n",
            "Requirement already satisfied: pandas>=1.1.4 in /usr/local/lib/python3.11/dist-packages (from ultralytics) (2.2.2)\n",
            "Requirement already satisfied: seaborn>=0.11.0 in /usr/local/lib/python3.11/dist-packages (from ultralytics) (0.13.2)\n",
            "Collecting ultralytics-thop>=2.0.0 (from ultralytics)\n",
            "  Downloading ultralytics_thop-2.0.14-py3-none-any.whl.metadata (9.4 kB)\n",
            "Requirement already satisfied: contourpy>=1.0.1 in /usr/local/lib/python3.11/dist-packages (from matplotlib>=3.3.0->ultralytics) (1.3.1)\n",
            "Requirement already satisfied: cycler>=0.10 in /usr/local/lib/python3.11/dist-packages (from matplotlib>=3.3.0->ultralytics) (0.12.1)\n",
            "Requirement already satisfied: fonttools>=4.22.0 in /usr/local/lib/python3.11/dist-packages (from matplotlib>=3.3.0->ultralytics) (4.57.0)\n",
            "Requirement already satisfied: kiwisolver>=1.3.1 in /usr/local/lib/python3.11/dist-packages (from matplotlib>=3.3.0->ultralytics) (1.4.8)\n",
            "Requirement already satisfied: packaging>=20.0 in /usr/local/lib/python3.11/dist-packages (from matplotlib>=3.3.0->ultralytics) (24.2)\n",
            "Requirement already satisfied: pyparsing>=2.3.1 in /usr/local/lib/python3.11/dist-packages (from matplotlib>=3.3.0->ultralytics) (3.2.3)\n",
            "Requirement already satisfied: python-dateutil>=2.7 in /usr/local/lib/python3.11/dist-packages (from matplotlib>=3.3.0->ultralytics) (2.8.2)\n",
            "Requirement already satisfied: pytz>=2020.1 in /usr/local/lib/python3.11/dist-packages (from pandas>=1.1.4->ultralytics) (2025.2)\n",
            "Requirement already satisfied: tzdata>=2022.7 in /usr/local/lib/python3.11/dist-packages (from pandas>=1.1.4->ultralytics) (2025.2)\n",
            "Requirement already satisfied: charset-normalizer<4,>=2 in /usr/local/lib/python3.11/dist-packages (from requests>=2.23.0->ultralytics) (3.4.1)\n",
            "Requirement already satisfied: idna<4,>=2.5 in /usr/local/lib/python3.11/dist-packages (from requests>=2.23.0->ultralytics) (3.7)\n",
            "Requirement already satisfied: urllib3<3,>=1.21.1 in /usr/local/lib/python3.11/dist-packages (from requests>=2.23.0->ultralytics) (2.3.0)\n",
            "Requirement already satisfied: certifi>=2017.4.17 in /usr/local/lib/python3.11/dist-packages (from requests>=2.23.0->ultralytics) (2025.1.31)\n",
            "Requirement already satisfied: filelock in /usr/local/lib/python3.11/dist-packages (from torch>=1.8.0->ultralytics) (3.18.0)\n",
            "Requirement already satisfied: typing-extensions>=4.10.0 in /usr/local/lib/python3.11/dist-packages (from torch>=1.8.0->ultralytics) (4.13.1)\n",
            "Requirement already satisfied: networkx in /usr/local/lib/python3.11/dist-packages (from torch>=1.8.0->ultralytics) (3.4.2)\n",
            "Requirement already satisfied: jinja2 in /usr/local/lib/python3.11/dist-packages (from torch>=1.8.0->ultralytics) (3.1.6)\n",
            "Requirement already satisfied: fsspec in /usr/local/lib/python3.11/dist-packages (from torch>=1.8.0->ultralytics) (2025.3.2)\n",
            "Collecting nvidia-cuda-nvrtc-cu12==12.4.127 (from torch>=1.8.0->ultralytics)\n",
            "  Downloading nvidia_cuda_nvrtc_cu12-12.4.127-py3-none-manylinux2014_x86_64.whl.metadata (1.5 kB)\n",
            "Collecting nvidia-cuda-runtime-cu12==12.4.127 (from torch>=1.8.0->ultralytics)\n",
            "  Downloading nvidia_cuda_runtime_cu12-12.4.127-py3-none-manylinux2014_x86_64.whl.metadata (1.5 kB)\n",
            "Collecting nvidia-cuda-cupti-cu12==12.4.127 (from torch>=1.8.0->ultralytics)\n",
            "  Downloading nvidia_cuda_cupti_cu12-12.4.127-py3-none-manylinux2014_x86_64.whl.metadata (1.6 kB)\n",
            "Collecting nvidia-cudnn-cu12==9.1.0.70 (from torch>=1.8.0->ultralytics)\n",
            "  Downloading nvidia_cudnn_cu12-9.1.0.70-py3-none-manylinux2014_x86_64.whl.metadata (1.6 kB)\n",
            "Collecting nvidia-cublas-cu12==12.4.5.8 (from torch>=1.8.0->ultralytics)\n",
            "  Downloading nvidia_cublas_cu12-12.4.5.8-py3-none-manylinux2014_x86_64.whl.metadata (1.5 kB)\n",
            "Collecting nvidia-cufft-cu12==11.2.1.3 (from torch>=1.8.0->ultralytics)\n",
            "  Downloading nvidia_cufft_cu12-11.2.1.3-py3-none-manylinux2014_x86_64.whl.metadata (1.5 kB)\n",
            "Collecting nvidia-curand-cu12==10.3.5.147 (from torch>=1.8.0->ultralytics)\n",
            "  Downloading nvidia_curand_cu12-10.3.5.147-py3-none-manylinux2014_x86_64.whl.metadata (1.5 kB)\n",
            "Collecting nvidia-cusolver-cu12==11.6.1.9 (from torch>=1.8.0->ultralytics)\n",
            "  Downloading nvidia_cusolver_cu12-11.6.1.9-py3-none-manylinux2014_x86_64.whl.metadata (1.6 kB)\n",
            "Collecting nvidia-cusparse-cu12==12.3.1.170 (from torch>=1.8.0->ultralytics)\n",
            "  Downloading nvidia_cusparse_cu12-12.3.1.170-py3-none-manylinux2014_x86_64.whl.metadata (1.6 kB)\n",
            "Requirement already satisfied: nvidia-cusparselt-cu12==0.6.2 in /usr/local/lib/python3.11/dist-packages (from torch>=1.8.0->ultralytics) (0.6.2)\n",
            "Requirement already satisfied: nvidia-nccl-cu12==2.21.5 in /usr/local/lib/python3.11/dist-packages (from torch>=1.8.0->ultralytics) (2.21.5)\n",
            "Requirement already satisfied: nvidia-nvtx-cu12==12.4.127 in /usr/local/lib/python3.11/dist-packages (from torch>=1.8.0->ultralytics) (12.4.127)\n",
            "Collecting nvidia-nvjitlink-cu12==12.4.127 (from torch>=1.8.0->ultralytics)\n",
            "  Downloading nvidia_nvjitlink_cu12-12.4.127-py3-none-manylinux2014_x86_64.whl.metadata (1.5 kB)\n",
            "Requirement already satisfied: triton==3.2.0 in /usr/local/lib/python3.11/dist-packages (from torch>=1.8.0->ultralytics) (3.2.0)\n",
            "Requirement already satisfied: sympy==1.13.1 in /usr/local/lib/python3.11/dist-packages (from torch>=1.8.0->ultralytics) (1.13.1)\n",
            "Requirement already satisfied: mpmath<1.4,>=1.1.0 in /usr/local/lib/python3.11/dist-packages (from sympy==1.13.1->torch>=1.8.0->ultralytics) (1.3.0)\n",
            "Requirement already satisfied: six>=1.5 in /usr/local/lib/python3.11/dist-packages (from python-dateutil>=2.7->matplotlib>=3.3.0->ultralytics) (1.17.0)\n",
            "Requirement already satisfied: MarkupSafe>=2.0 in /usr/local/lib/python3.11/dist-packages (from jinja2->torch>=1.8.0->ultralytics) (3.0.2)\n",
            "Downloading ultralytics-8.3.110-py3-none-any.whl (978 kB)\n",
            "\u001b[2K   \u001b[90m━━━━━━━━━━━━━━━━━━━━━━━━━━━━━━━━━━━━━━━━\u001b[0m \u001b[32m978.8/978.8 kB\u001b[0m \u001b[31m61.1 MB/s\u001b[0m eta \u001b[36m0:00:00\u001b[0m\n",
            "\u001b[?25hDownloading nvidia_cublas_cu12-12.4.5.8-py3-none-manylinux2014_x86_64.whl (363.4 MB)\n",
            "\u001b[2K   \u001b[90m━━━━━━━━━━━━━━━━━━━━━━━━━━━━━━━━━━━━━━━━\u001b[0m \u001b[32m363.4/363.4 MB\u001b[0m \u001b[31m3.8 MB/s\u001b[0m eta \u001b[36m0:00:00\u001b[0m\n",
            "\u001b[?25hDownloading nvidia_cuda_cupti_cu12-12.4.127-py3-none-manylinux2014_x86_64.whl (13.8 MB)\n",
            "\u001b[2K   \u001b[90m━━━━━━━━━━━━━━━━━━━━━━━━━━━━━━━━━━━━━━━━\u001b[0m \u001b[32m13.8/13.8 MB\u001b[0m \u001b[31m94.6 MB/s\u001b[0m eta \u001b[36m0:00:00\u001b[0m\n",
            "\u001b[?25hDownloading nvidia_cuda_nvrtc_cu12-12.4.127-py3-none-manylinux2014_x86_64.whl (24.6 MB)\n",
            "\u001b[2K   \u001b[90m━━━━━━━━━━━━━━━━━━━━━━━━━━━━━━━━━━━━━━━━\u001b[0m \u001b[32m24.6/24.6 MB\u001b[0m \u001b[31m65.9 MB/s\u001b[0m eta \u001b[36m0:00:00\u001b[0m\n",
            "\u001b[?25hDownloading nvidia_cuda_runtime_cu12-12.4.127-py3-none-manylinux2014_x86_64.whl (883 kB)\n",
            "\u001b[2K   \u001b[90m━━━━━━━━━━━━━━━━━━━━━━━━━━━━━━━━━━━━━━━━\u001b[0m \u001b[32m883.7/883.7 kB\u001b[0m \u001b[31m48.7 MB/s\u001b[0m eta \u001b[36m0:00:00\u001b[0m\n",
            "\u001b[?25hDownloading nvidia_cudnn_cu12-9.1.0.70-py3-none-manylinux2014_x86_64.whl (664.8 MB)\n",
            "\u001b[2K   \u001b[90m━━━━━━━━━━━━━━━━━━━━━━━━━━━━━━━━━━━━━━━━\u001b[0m \u001b[32m664.8/664.8 MB\u001b[0m \u001b[31m2.7 MB/s\u001b[0m eta \u001b[36m0:00:00\u001b[0m\n",
            "\u001b[?25hDownloading nvidia_cufft_cu12-11.2.1.3-py3-none-manylinux2014_x86_64.whl (211.5 MB)\n",
            "\u001b[2K   \u001b[90m━━━━━━━━━━━━━━━━━━━━━━━━━━━━━━━━━━━━━━━━\u001b[0m \u001b[32m211.5/211.5 MB\u001b[0m \u001b[31m5.0 MB/s\u001b[0m eta \u001b[36m0:00:00\u001b[0m\n",
            "\u001b[?25hDownloading nvidia_curand_cu12-10.3.5.147-py3-none-manylinux2014_x86_64.whl (56.3 MB)\n",
            "\u001b[2K   \u001b[90m━━━━━━━━━━━━━━━━━━━━━━━━━━━━━━━━━━━━━━━━\u001b[0m \u001b[32m56.3/56.3 MB\u001b[0m \u001b[31m13.2 MB/s\u001b[0m eta \u001b[36m0:00:00\u001b[0m\n",
            "\u001b[?25hDownloading nvidia_cusolver_cu12-11.6.1.9-py3-none-manylinux2014_x86_64.whl (127.9 MB)\n",
            "\u001b[2K   \u001b[90m━━━━━━━━━━━━━━━━━━━━━━━━━━━━━━━━━━━━━━━━\u001b[0m \u001b[32m127.9/127.9 MB\u001b[0m \u001b[31m7.6 MB/s\u001b[0m eta \u001b[36m0:00:00\u001b[0m\n",
            "\u001b[?25hDownloading nvidia_cusparse_cu12-12.3.1.170-py3-none-manylinux2014_x86_64.whl (207.5 MB)\n",
            "\u001b[2K   \u001b[90m━━━━━━━━━━━━━━━━━━━━━━━━━━━━━━━━━━━━━━━━\u001b[0m \u001b[32m207.5/207.5 MB\u001b[0m \u001b[31m5.3 MB/s\u001b[0m eta \u001b[36m0:00:00\u001b[0m\n",
            "\u001b[?25hDownloading nvidia_nvjitlink_cu12-12.4.127-py3-none-manylinux2014_x86_64.whl (21.1 MB)\n",
            "\u001b[2K   \u001b[90m━━━━━━━━━━━━━━━━━━━━━━━━━━━━━━━━━━━━━━━━\u001b[0m \u001b[32m21.1/21.1 MB\u001b[0m \u001b[31m111.8 MB/s\u001b[0m eta \u001b[36m0:00:00\u001b[0m\n",
            "\u001b[?25hDownloading ultralytics_thop-2.0.14-py3-none-any.whl (26 kB)\n",
            "Installing collected packages: nvidia-nvjitlink-cu12, nvidia-curand-cu12, nvidia-cufft-cu12, nvidia-cuda-runtime-cu12, nvidia-cuda-nvrtc-cu12, nvidia-cuda-cupti-cu12, nvidia-cublas-cu12, nvidia-cusparse-cu12, nvidia-cudnn-cu12, nvidia-cusolver-cu12, ultralytics-thop, ultralytics\n",
            "  Attempting uninstall: nvidia-nvjitlink-cu12\n",
            "    Found existing installation: nvidia-nvjitlink-cu12 12.5.82\n",
            "    Uninstalling nvidia-nvjitlink-cu12-12.5.82:\n",
            "      Successfully uninstalled nvidia-nvjitlink-cu12-12.5.82\n",
            "  Attempting uninstall: nvidia-curand-cu12\n",
            "    Found existing installation: nvidia-curand-cu12 10.3.6.82\n",
            "    Uninstalling nvidia-curand-cu12-10.3.6.82:\n",
            "      Successfully uninstalled nvidia-curand-cu12-10.3.6.82\n",
            "  Attempting uninstall: nvidia-cufft-cu12\n",
            "    Found existing installation: nvidia-cufft-cu12 11.2.3.61\n",
            "    Uninstalling nvidia-cufft-cu12-11.2.3.61:\n",
            "      Successfully uninstalled nvidia-cufft-cu12-11.2.3.61\n",
            "  Attempting uninstall: nvidia-cuda-runtime-cu12\n",
            "    Found existing installation: nvidia-cuda-runtime-cu12 12.5.82\n",
            "    Uninstalling nvidia-cuda-runtime-cu12-12.5.82:\n",
            "      Successfully uninstalled nvidia-cuda-runtime-cu12-12.5.82\n",
            "  Attempting uninstall: nvidia-cuda-nvrtc-cu12\n",
            "    Found existing installation: nvidia-cuda-nvrtc-cu12 12.5.82\n",
            "    Uninstalling nvidia-cuda-nvrtc-cu12-12.5.82:\n",
            "      Successfully uninstalled nvidia-cuda-nvrtc-cu12-12.5.82\n",
            "  Attempting uninstall: nvidia-cuda-cupti-cu12\n",
            "    Found existing installation: nvidia-cuda-cupti-cu12 12.5.82\n",
            "    Uninstalling nvidia-cuda-cupti-cu12-12.5.82:\n",
            "      Successfully uninstalled nvidia-cuda-cupti-cu12-12.5.82\n",
            "  Attempting uninstall: nvidia-cublas-cu12\n",
            "    Found existing installation: nvidia-cublas-cu12 12.5.3.2\n",
            "    Uninstalling nvidia-cublas-cu12-12.5.3.2:\n",
            "      Successfully uninstalled nvidia-cublas-cu12-12.5.3.2\n",
            "  Attempting uninstall: nvidia-cusparse-cu12\n",
            "    Found existing installation: nvidia-cusparse-cu12 12.5.1.3\n",
            "    Uninstalling nvidia-cusparse-cu12-12.5.1.3:\n",
            "      Successfully uninstalled nvidia-cusparse-cu12-12.5.1.3\n",
            "  Attempting uninstall: nvidia-cudnn-cu12\n",
            "    Found existing installation: nvidia-cudnn-cu12 9.3.0.75\n",
            "    Uninstalling nvidia-cudnn-cu12-9.3.0.75:\n",
            "      Successfully uninstalled nvidia-cudnn-cu12-9.3.0.75\n",
            "  Attempting uninstall: nvidia-cusolver-cu12\n",
            "    Found existing installation: nvidia-cusolver-cu12 11.6.3.83\n",
            "    Uninstalling nvidia-cusolver-cu12-11.6.3.83:\n",
            "      Successfully uninstalled nvidia-cusolver-cu12-11.6.3.83\n",
            "Successfully installed nvidia-cublas-cu12-12.4.5.8 nvidia-cuda-cupti-cu12-12.4.127 nvidia-cuda-nvrtc-cu12-12.4.127 nvidia-cuda-runtime-cu12-12.4.127 nvidia-cudnn-cu12-9.1.0.70 nvidia-cufft-cu12-11.2.1.3 nvidia-curand-cu12-10.3.5.147 nvidia-cusolver-cu12-11.6.1.9 nvidia-cusparse-cu12-12.3.1.170 nvidia-nvjitlink-cu12-12.4.127 ultralytics-8.3.110 ultralytics-thop-2.0.14\n"
          ]
        }
      ]
    },
    {
      "cell_type": "code",
      "source": [
        "import os\n",
        "\n",
        "# Path to your image folder\n",
        "folder_path = \"/content/License-Plate-Recognition-11/train/images\"\n",
        "\n",
        "# Common image extensions\n",
        "image_extensions = (\".jpg\", \".jpeg\", \".png\", \".bmp\", \".gif\", \".tiff\", \".webp\")\n",
        "\n",
        "# Count files with image extensions\n",
        "image_files = [f for f in os.listdir(folder_path) if f.lower().endswith(image_extensions)]\n",
        "\n",
        "print(f\"Total images: {len(image_files)}\")\n"
      ],
      "metadata": {
        "id": "BHn3ktOu2kXO",
        "outputId": "ff08de60-c1d1-4053-c984-fc8774c99a85",
        "colab": {
          "base_uri": "https://localhost:8080/"
        }
      },
      "execution_count": 8,
      "outputs": [
        {
          "output_type": "stream",
          "name": "stdout",
          "text": [
            "Total images: 7057\n"
          ]
        }
      ]
    },
    {
      "cell_type": "code",
      "source": [
        "import torch\n",
        "torch.cuda.is_available()"
      ],
      "metadata": {
        "colab": {
          "base_uri": "https://localhost:8080/"
        },
        "id": "7nM9ZrswerpF",
        "outputId": "90c96277-97be-4509-b19c-c7ef091c8db0"
      },
      "execution_count": 9,
      "outputs": [
        {
          "output_type": "execute_result",
          "data": {
            "text/plain": [
              "True"
            ]
          },
          "metadata": {},
          "execution_count": 9
        }
      ]
    },
    {
      "cell_type": "code",
      "source": [
        "from ultralytics import YOLO\n",
        "\n",
        "model=YOLO(\"/content/yolo11m.pt\")\n",
        "\n",
        "model.train(data=\"/content/License-Plate-Recognition-11/data.yaml\", imgsz=640, batch=8, epochs=20, workers=2, device=0)"
      ],
      "metadata": {
        "colab": {
          "base_uri": "https://localhost:8080/"
        },
        "id": "_aL39qZBf4t6",
        "outputId": "b323a84c-374f-45db-8061-2f424092c2c4"
      },
      "execution_count": 10,
      "outputs": [
        {
          "output_type": "stream",
          "name": "stdout",
          "text": [
            "Creating new Ultralytics Settings v0.0.6 file ✅ \n",
            "View Ultralytics Settings with 'yolo settings' or at '/root/.config/Ultralytics/settings.json'\n",
            "Update Settings with 'yolo settings key=value', i.e. 'yolo settings runs_dir=path/to/dir'. For help see https://docs.ultralytics.com/quickstart/#ultralytics-settings.\n",
            "Ultralytics 8.3.110 🚀 Python-3.11.12 torch-2.6.0+cu124 CUDA:0 (Tesla T4, 15095MiB)\n",
            "\u001b[34m\u001b[1mengine/trainer: \u001b[0mtask=detect, mode=train, model=/content/yolo11m.pt, data=/content/License-Plate-Recognition-11/data.yaml, epochs=20, time=None, patience=100, batch=8, imgsz=640, save=True, save_period=-1, cache=False, device=0, workers=2, project=None, name=train, exist_ok=False, pretrained=True, optimizer=auto, verbose=True, seed=0, deterministic=True, single_cls=False, rect=False, cos_lr=False, close_mosaic=10, resume=False, amp=True, fraction=1.0, profile=False, freeze=None, multi_scale=False, overlap_mask=True, mask_ratio=4, dropout=0.0, val=True, split=val, save_json=False, conf=None, iou=0.7, max_det=300, half=False, dnn=False, plots=True, source=None, vid_stride=1, stream_buffer=False, visualize=False, augment=False, agnostic_nms=False, classes=None, retina_masks=False, embed=None, show=False, save_frames=False, save_txt=False, save_conf=False, save_crop=False, show_labels=True, show_conf=True, show_boxes=True, line_width=None, format=torchscript, keras=False, optimize=False, int8=False, dynamic=False, simplify=True, opset=None, workspace=None, nms=False, lr0=0.01, lrf=0.01, momentum=0.937, weight_decay=0.0005, warmup_epochs=3.0, warmup_momentum=0.8, warmup_bias_lr=0.1, box=7.5, cls=0.5, dfl=1.5, pose=12.0, kobj=1.0, nbs=64, hsv_h=0.015, hsv_s=0.7, hsv_v=0.4, degrees=0.0, translate=0.1, scale=0.5, shear=0.0, perspective=0.0, flipud=0.0, fliplr=0.5, bgr=0.0, mosaic=1.0, mixup=0.0, copy_paste=0.0, copy_paste_mode=flip, auto_augment=randaugment, erasing=0.4, cfg=None, tracker=botsort.yaml, save_dir=runs/detect/train\n",
            "Downloading https://ultralytics.com/assets/Arial.ttf to '/root/.config/Ultralytics/Arial.ttf'...\n"
          ]
        },
        {
          "output_type": "stream",
          "name": "stderr",
          "text": [
            "100%|██████████| 755k/755k [00:00<00:00, 149MB/s]\n"
          ]
        },
        {
          "output_type": "stream",
          "name": "stdout",
          "text": [
            "Overriding model.yaml nc=80 with nc=1\n",
            "\n",
            "                   from  n    params  module                                       arguments                     \n",
            "  0                  -1  1      1856  ultralytics.nn.modules.conv.Conv             [3, 64, 3, 2]                 \n",
            "  1                  -1  1     73984  ultralytics.nn.modules.conv.Conv             [64, 128, 3, 2]               \n",
            "  2                  -1  1    111872  ultralytics.nn.modules.block.C3k2            [128, 256, 1, True, 0.25]     \n",
            "  3                  -1  1    590336  ultralytics.nn.modules.conv.Conv             [256, 256, 3, 2]              \n",
            "  4                  -1  1    444928  ultralytics.nn.modules.block.C3k2            [256, 512, 1, True, 0.25]     \n",
            "  5                  -1  1   2360320  ultralytics.nn.modules.conv.Conv             [512, 512, 3, 2]              \n",
            "  6                  -1  1   1380352  ultralytics.nn.modules.block.C3k2            [512, 512, 1, True]           \n",
            "  7                  -1  1   2360320  ultralytics.nn.modules.conv.Conv             [512, 512, 3, 2]              \n",
            "  8                  -1  1   1380352  ultralytics.nn.modules.block.C3k2            [512, 512, 1, True]           \n",
            "  9                  -1  1    656896  ultralytics.nn.modules.block.SPPF            [512, 512, 5]                 \n",
            " 10                  -1  1    990976  ultralytics.nn.modules.block.C2PSA           [512, 512, 1]                 \n",
            " 11                  -1  1         0  torch.nn.modules.upsampling.Upsample         [None, 2, 'nearest']          \n",
            " 12             [-1, 6]  1         0  ultralytics.nn.modules.conv.Concat           [1]                           \n",
            " 13                  -1  1   1642496  ultralytics.nn.modules.block.C3k2            [1024, 512, 1, True]          \n",
            " 14                  -1  1         0  torch.nn.modules.upsampling.Upsample         [None, 2, 'nearest']          \n",
            " 15             [-1, 4]  1         0  ultralytics.nn.modules.conv.Concat           [1]                           \n",
            " 16                  -1  1    542720  ultralytics.nn.modules.block.C3k2            [1024, 256, 1, True]          \n",
            " 17                  -1  1    590336  ultralytics.nn.modules.conv.Conv             [256, 256, 3, 2]              \n",
            " 18            [-1, 13]  1         0  ultralytics.nn.modules.conv.Concat           [1]                           \n",
            " 19                  -1  1   1511424  ultralytics.nn.modules.block.C3k2            [768, 512, 1, True]           \n",
            " 20                  -1  1   2360320  ultralytics.nn.modules.conv.Conv             [512, 512, 3, 2]              \n",
            " 21            [-1, 10]  1         0  ultralytics.nn.modules.conv.Concat           [1]                           \n",
            " 22                  -1  1   1642496  ultralytics.nn.modules.block.C3k2            [1024, 512, 1, True]          \n",
            " 23        [16, 19, 22]  1   1411795  ultralytics.nn.modules.head.Detect           [1, [256, 512, 512]]          \n",
            "YOLO11m summary: 231 layers, 20,053,779 parameters, 20,053,763 gradients, 68.2 GFLOPs\n",
            "\n",
            "Transferred 643/649 items from pretrained weights\n",
            "\u001b[34m\u001b[1mTensorBoard: \u001b[0mStart with 'tensorboard --logdir runs/detect/train', view at http://localhost:6006/\n",
            "Freezing layer 'model.23.dfl.conv.weight'\n",
            "\u001b[34m\u001b[1mAMP: \u001b[0mrunning Automatic Mixed Precision (AMP) checks...\n",
            "Downloading https://github.com/ultralytics/assets/releases/download/v8.3.0/yolo11n.pt to 'yolo11n.pt'...\n"
          ]
        },
        {
          "output_type": "stream",
          "name": "stderr",
          "text": [
            "100%|██████████| 5.35M/5.35M [00:00<00:00, 371MB/s]\n"
          ]
        },
        {
          "output_type": "stream",
          "name": "stdout",
          "text": [
            "\u001b[34m\u001b[1mAMP: \u001b[0mchecks passed ✅\n",
            "\u001b[34m\u001b[1mtrain: \u001b[0mFast image access ✅ (ping: 0.0±0.0 ms, read: 14.1±4.2 MB/s, size: 24.9 KB)\n"
          ]
        },
        {
          "output_type": "stream",
          "name": "stderr",
          "text": [
            "\u001b[34m\u001b[1mtrain: \u001b[0mScanning /content/License-Plate-Recognition-11/train/labels... 7057 images, 5 backgrounds, 0 corrupt: 100%|██████████| 7057/7057 [00:05<00:00, 1228.35it/s]\n"
          ]
        },
        {
          "output_type": "stream",
          "name": "stdout",
          "text": [
            "\u001b[34m\u001b[1mtrain: \u001b[0mNew cache created: /content/License-Plate-Recognition-11/train/labels.cache\n",
            "\u001b[34m\u001b[1malbumentations: \u001b[0mBlur(p=0.01, blur_limit=(3, 7)), MedianBlur(p=0.01, blur_limit=(3, 7)), ToGray(p=0.01, num_output_channels=3, method='weighted_average'), CLAHE(p=0.01, clip_limit=(1.0, 4.0), tile_grid_size=(8, 8))\n",
            "\u001b[34m\u001b[1mval: \u001b[0mFast image access ✅ (ping: 0.0±0.0 ms, read: 9.7±3.8 MB/s, size: 20.8 KB)\n"
          ]
        },
        {
          "output_type": "stream",
          "name": "stderr",
          "text": [
            "\u001b[34m\u001b[1mval: \u001b[0mScanning /content/License-Plate-Recognition-11/valid/labels... 2048 images, 3 backgrounds, 0 corrupt: 100%|██████████| 2048/2048 [00:02<00:00, 799.07it/s] "
          ]
        },
        {
          "output_type": "stream",
          "name": "stdout",
          "text": [
            "\u001b[34m\u001b[1mval: \u001b[0mNew cache created: /content/License-Plate-Recognition-11/valid/labels.cache\n"
          ]
        },
        {
          "output_type": "stream",
          "name": "stderr",
          "text": [
            "\n"
          ]
        },
        {
          "output_type": "stream",
          "name": "stdout",
          "text": [
            "Plotting labels to runs/detect/train/labels.jpg... \n",
            "\u001b[34m\u001b[1moptimizer:\u001b[0m 'optimizer=auto' found, ignoring 'lr0=0.01' and 'momentum=0.937' and determining best 'optimizer', 'lr0' and 'momentum' automatically... \n",
            "\u001b[34m\u001b[1moptimizer:\u001b[0m AdamW(lr=0.002, momentum=0.9) with parameter groups 106 weight(decay=0.0), 113 weight(decay=0.0005), 112 bias(decay=0.0)\n",
            "\u001b[34m\u001b[1mTensorBoard: \u001b[0mmodel graph visualization added ✅\n",
            "Image sizes 640 train, 640 val\n",
            "Using 2 dataloader workers\n",
            "Logging results to \u001b[1mruns/detect/train\u001b[0m\n",
            "Starting training for 20 epochs...\n",
            "\n",
            "      Epoch    GPU_mem   box_loss   cls_loss   dfl_loss  Instances       Size\n"
          ]
        },
        {
          "output_type": "stream",
          "name": "stderr",
          "text": [
            "       1/20       4.4G      1.386      1.025      1.262          2        640: 100%|██████████| 883/883 [04:41<00:00,  3.14it/s]\n",
            "                 Class     Images  Instances      Box(P          R      mAP50  mAP50-95): 100%|██████████| 128/128 [00:26<00:00,  4.90it/s]\n"
          ]
        },
        {
          "output_type": "stream",
          "name": "stdout",
          "text": [
            "                   all       2048       2195      0.893      0.754      0.815      0.489\n",
            "\n",
            "      Epoch    GPU_mem   box_loss   cls_loss   dfl_loss  Instances       Size\n"
          ]
        },
        {
          "output_type": "stream",
          "name": "stderr",
          "text": [
            "       2/20      6.24G      1.397     0.9357      1.287          1        640: 100%|██████████| 883/883 [04:32<00:00,  3.24it/s]\n",
            "                 Class     Images  Instances      Box(P          R      mAP50  mAP50-95): 100%|██████████| 128/128 [00:25<00:00,  5.09it/s]\n"
          ]
        },
        {
          "output_type": "stream",
          "name": "stdout",
          "text": [
            "                   all       2048       2195      0.921      0.805      0.873      0.536\n",
            "\n",
            "      Epoch    GPU_mem   box_loss   cls_loss   dfl_loss  Instances       Size\n"
          ]
        },
        {
          "output_type": "stream",
          "name": "stderr",
          "text": [
            "       3/20       6.3G      1.342     0.8592      1.259          3        640: 100%|██████████| 883/883 [04:28<00:00,  3.29it/s]\n",
            "                 Class     Images  Instances      Box(P          R      mAP50  mAP50-95): 100%|██████████| 128/128 [00:24<00:00,  5.32it/s]\n"
          ]
        },
        {
          "output_type": "stream",
          "name": "stdout",
          "text": [
            "                   all       2048       2195      0.921      0.826      0.888      0.552\n",
            "\n",
            "      Epoch    GPU_mem   box_loss   cls_loss   dfl_loss  Instances       Size\n"
          ]
        },
        {
          "output_type": "stream",
          "name": "stderr",
          "text": [
            "       4/20      6.37G      1.305     0.8111      1.237          1        640: 100%|██████████| 883/883 [04:27<00:00,  3.30it/s]\n",
            "                 Class     Images  Instances      Box(P          R      mAP50  mAP50-95): 100%|██████████| 128/128 [00:23<00:00,  5.35it/s]"
          ]
        },
        {
          "output_type": "stream",
          "name": "stdout",
          "text": [
            "                   all       2048       2195      0.952      0.848      0.917       0.59\n"
          ]
        },
        {
          "output_type": "stream",
          "name": "stderr",
          "text": [
            "\n"
          ]
        },
        {
          "output_type": "stream",
          "name": "stdout",
          "text": [
            "\n",
            "      Epoch    GPU_mem   box_loss   cls_loss   dfl_loss  Instances       Size\n"
          ]
        },
        {
          "output_type": "stream",
          "name": "stderr",
          "text": [
            "       5/20      6.44G      1.281     0.7736      1.228          4        640: 100%|██████████| 883/883 [04:29<00:00,  3.28it/s]\n",
            "                 Class     Images  Instances      Box(P          R      mAP50  mAP50-95): 100%|██████████| 128/128 [00:23<00:00,  5.34it/s]\n"
          ]
        },
        {
          "output_type": "stream",
          "name": "stdout",
          "text": [
            "                   all       2048       2195      0.948      0.865      0.921      0.604\n",
            "\n",
            "      Epoch    GPU_mem   box_loss   cls_loss   dfl_loss  Instances       Size\n"
          ]
        },
        {
          "output_type": "stream",
          "name": "stderr",
          "text": [
            "       6/20       6.5G      1.251     0.7169      1.202          4        640: 100%|██████████| 883/883 [04:27<00:00,  3.30it/s]\n",
            "                 Class     Images  Instances      Box(P          R      mAP50  mAP50-95): 100%|██████████| 128/128 [00:24<00:00,  5.14it/s]\n"
          ]
        },
        {
          "output_type": "stream",
          "name": "stdout",
          "text": [
            "                   all       2048       2195      0.937      0.854      0.913      0.598\n",
            "\n",
            "      Epoch    GPU_mem   box_loss   cls_loss   dfl_loss  Instances       Size\n"
          ]
        },
        {
          "output_type": "stream",
          "name": "stderr",
          "text": [
            "       7/20      6.57G       1.23     0.6941      1.194          2        640: 100%|██████████| 883/883 [04:27<00:00,  3.30it/s]\n",
            "                 Class     Images  Instances      Box(P          R      mAP50  mAP50-95): 100%|██████████| 128/128 [00:24<00:00,  5.30it/s]\n"
          ]
        },
        {
          "output_type": "stream",
          "name": "stdout",
          "text": [
            "                   all       2048       2195      0.951      0.879      0.941      0.628\n",
            "\n",
            "      Epoch    GPU_mem   box_loss   cls_loss   dfl_loss  Instances       Size\n"
          ]
        },
        {
          "output_type": "stream",
          "name": "stderr",
          "text": [
            "       8/20      6.63G      1.214     0.6766      1.195          3        640: 100%|██████████| 883/883 [04:26<00:00,  3.31it/s]\n",
            "                 Class     Images  Instances      Box(P          R      mAP50  mAP50-95): 100%|██████████| 128/128 [00:24<00:00,  5.33it/s]\n"
          ]
        },
        {
          "output_type": "stream",
          "name": "stdout",
          "text": [
            "                   all       2048       2195      0.963      0.877      0.942      0.623\n",
            "\n",
            "      Epoch    GPU_mem   box_loss   cls_loss   dfl_loss  Instances       Size\n"
          ]
        },
        {
          "output_type": "stream",
          "name": "stderr",
          "text": [
            "       9/20      6.67G      1.203     0.6498      1.177          1        640: 100%|██████████| 883/883 [04:28<00:00,  3.29it/s]\n",
            "                 Class     Images  Instances      Box(P          R      mAP50  mAP50-95): 100%|██████████| 128/128 [00:26<00:00,  4.91it/s]\n"
          ]
        },
        {
          "output_type": "stream",
          "name": "stdout",
          "text": [
            "                   all       2048       2195      0.959      0.892       0.95      0.634\n",
            "\n",
            "      Epoch    GPU_mem   box_loss   cls_loss   dfl_loss  Instances       Size\n"
          ]
        },
        {
          "output_type": "stream",
          "name": "stderr",
          "text": [
            "      10/20      6.77G      1.181     0.6222       1.16          4        640: 100%|██████████| 883/883 [04:28<00:00,  3.29it/s]\n",
            "                 Class     Images  Instances      Box(P          R      mAP50  mAP50-95): 100%|██████████| 128/128 [00:24<00:00,  5.24it/s]\n"
          ]
        },
        {
          "output_type": "stream",
          "name": "stdout",
          "text": [
            "                   all       2048       2195      0.967      0.894      0.949      0.631\n",
            "Closing dataloader mosaic\n",
            "\u001b[34m\u001b[1malbumentations: \u001b[0mBlur(p=0.01, blur_limit=(3, 7)), MedianBlur(p=0.01, blur_limit=(3, 7)), ToGray(p=0.01, num_output_channels=3, method='weighted_average'), CLAHE(p=0.01, clip_limit=(1.0, 4.0), tile_grid_size=(8, 8))\n",
            "\n",
            "      Epoch    GPU_mem   box_loss   cls_loss   dfl_loss  Instances       Size\n"
          ]
        },
        {
          "output_type": "stream",
          "name": "stderr",
          "text": [
            "      11/20      6.83G       1.17     0.5679      1.162          1        640: 100%|██████████| 883/883 [04:26<00:00,  3.32it/s]\n",
            "                 Class     Images  Instances      Box(P          R      mAP50  mAP50-95): 100%|██████████| 128/128 [00:24<00:00,  5.27it/s]"
          ]
        },
        {
          "output_type": "stream",
          "name": "stdout",
          "text": [
            "                   all       2048       2195      0.971      0.888      0.942      0.641\n"
          ]
        },
        {
          "output_type": "stream",
          "name": "stderr",
          "text": [
            "\n"
          ]
        },
        {
          "output_type": "stream",
          "name": "stdout",
          "text": [
            "\n",
            "      Epoch    GPU_mem   box_loss   cls_loss   dfl_loss  Instances       Size\n"
          ]
        },
        {
          "output_type": "stream",
          "name": "stderr",
          "text": [
            "      12/20       6.9G      1.165     0.5559       1.16          2        640: 100%|██████████| 883/883 [04:25<00:00,  3.33it/s]\n",
            "                 Class     Images  Instances      Box(P          R      mAP50  mAP50-95): 100%|██████████| 128/128 [00:24<00:00,  5.30it/s]\n"
          ]
        },
        {
          "output_type": "stream",
          "name": "stdout",
          "text": [
            "                   all       2048       2195      0.961      0.897      0.955      0.645\n",
            "\n",
            "      Epoch    GPU_mem   box_loss   cls_loss   dfl_loss  Instances       Size\n"
          ]
        },
        {
          "output_type": "stream",
          "name": "stderr",
          "text": [
            "      13/20      6.96G      1.152     0.5414      1.148          1        640: 100%|██████████| 883/883 [04:24<00:00,  3.34it/s]\n",
            "                 Class     Images  Instances      Box(P          R      mAP50  mAP50-95): 100%|██████████| 128/128 [00:24<00:00,  5.27it/s]"
          ]
        },
        {
          "output_type": "stream",
          "name": "stdout",
          "text": [
            "                   all       2048       2195      0.958        0.9      0.952      0.644\n"
          ]
        },
        {
          "output_type": "stream",
          "name": "stderr",
          "text": [
            "\n"
          ]
        },
        {
          "output_type": "stream",
          "name": "stdout",
          "text": [
            "\n",
            "      Epoch    GPU_mem   box_loss   cls_loss   dfl_loss  Instances       Size\n"
          ]
        },
        {
          "output_type": "stream",
          "name": "stderr",
          "text": [
            "      14/20      7.03G      1.141     0.5204      1.145          1        640: 100%|██████████| 883/883 [04:26<00:00,  3.32it/s]\n",
            "                 Class     Images  Instances      Box(P          R      mAP50  mAP50-95): 100%|██████████| 128/128 [00:24<00:00,  5.25it/s]"
          ]
        },
        {
          "output_type": "stream",
          "name": "stdout",
          "text": [
            "                   all       2048       2195      0.964      0.923      0.962      0.658\n"
          ]
        },
        {
          "output_type": "stream",
          "name": "stderr",
          "text": [
            "\n"
          ]
        },
        {
          "output_type": "stream",
          "name": "stdout",
          "text": [
            "\n",
            "      Epoch    GPU_mem   box_loss   cls_loss   dfl_loss  Instances       Size\n"
          ]
        },
        {
          "output_type": "stream",
          "name": "stderr",
          "text": [
            "      15/20       7.1G      1.137     0.5094      1.143          1        640: 100%|██████████| 883/883 [04:26<00:00,  3.31it/s]\n",
            "                 Class     Images  Instances      Box(P          R      mAP50  mAP50-95): 100%|██████████| 128/128 [00:23<00:00,  5.34it/s]\n"
          ]
        },
        {
          "output_type": "stream",
          "name": "stdout",
          "text": [
            "                   all       2048       2195      0.951      0.912      0.948      0.642\n",
            "\n",
            "      Epoch    GPU_mem   box_loss   cls_loss   dfl_loss  Instances       Size\n"
          ]
        },
        {
          "output_type": "stream",
          "name": "stderr",
          "text": [
            "      16/20      7.16G      1.123     0.4973      1.133          1        640: 100%|██████████| 883/883 [04:24<00:00,  3.33it/s]\n",
            "                 Class     Images  Instances      Box(P          R      mAP50  mAP50-95): 100%|██████████| 128/128 [00:24<00:00,  5.29it/s]"
          ]
        },
        {
          "output_type": "stream",
          "name": "stdout",
          "text": [
            "                   all       2048       2195      0.979       0.92      0.961      0.659\n"
          ]
        },
        {
          "output_type": "stream",
          "name": "stderr",
          "text": [
            "\n"
          ]
        },
        {
          "output_type": "stream",
          "name": "stdout",
          "text": [
            "\n",
            "      Epoch    GPU_mem   box_loss   cls_loss   dfl_loss  Instances       Size\n"
          ]
        },
        {
          "output_type": "stream",
          "name": "stderr",
          "text": [
            "      17/20       7.2G      1.108     0.4811      1.128          1        640: 100%|██████████| 883/883 [04:27<00:00,  3.30it/s]\n",
            "                 Class     Images  Instances      Box(P          R      mAP50  mAP50-95): 100%|██████████| 128/128 [00:24<00:00,  5.19it/s]"
          ]
        },
        {
          "output_type": "stream",
          "name": "stdout",
          "text": [
            "                   all       2048       2195      0.968      0.924      0.962       0.67\n"
          ]
        },
        {
          "output_type": "stream",
          "name": "stderr",
          "text": [
            "\n"
          ]
        },
        {
          "output_type": "stream",
          "name": "stdout",
          "text": [
            "\n",
            "      Epoch    GPU_mem   box_loss   cls_loss   dfl_loss  Instances       Size\n"
          ]
        },
        {
          "output_type": "stream",
          "name": "stderr",
          "text": [
            "      18/20       7.3G      1.093     0.4713      1.122          1        640: 100%|██████████| 883/883 [04:26<00:00,  3.31it/s]\n",
            "                 Class     Images  Instances      Box(P          R      mAP50  mAP50-95): 100%|██████████| 128/128 [00:24<00:00,  5.31it/s]"
          ]
        },
        {
          "output_type": "stream",
          "name": "stdout",
          "text": [
            "                   all       2048       2195      0.962      0.929      0.961       0.67\n"
          ]
        },
        {
          "output_type": "stream",
          "name": "stderr",
          "text": [
            "\n"
          ]
        },
        {
          "output_type": "stream",
          "name": "stdout",
          "text": [
            "\n",
            "      Epoch    GPU_mem   box_loss   cls_loss   dfl_loss  Instances       Size\n"
          ]
        },
        {
          "output_type": "stream",
          "name": "stderr",
          "text": [
            "      19/20      7.36G      1.082     0.4541      1.116          1        640: 100%|██████████| 883/883 [04:25<00:00,  3.33it/s]\n",
            "                 Class     Images  Instances      Box(P          R      mAP50  mAP50-95): 100%|██████████| 128/128 [00:24<00:00,  5.31it/s]"
          ]
        },
        {
          "output_type": "stream",
          "name": "stdout",
          "text": [
            "                   all       2048       2195      0.971      0.929      0.965      0.677\n"
          ]
        },
        {
          "output_type": "stream",
          "name": "stderr",
          "text": [
            "\n"
          ]
        },
        {
          "output_type": "stream",
          "name": "stdout",
          "text": [
            "\n",
            "      Epoch    GPU_mem   box_loss   cls_loss   dfl_loss  Instances       Size\n"
          ]
        },
        {
          "output_type": "stream",
          "name": "stderr",
          "text": [
            "      20/20      7.43G      1.069      0.444      1.111          1        640: 100%|██████████| 883/883 [04:25<00:00,  3.33it/s]\n",
            "                 Class     Images  Instances      Box(P          R      mAP50  mAP50-95): 100%|██████████| 128/128 [00:23<00:00,  5.34it/s]"
          ]
        },
        {
          "output_type": "stream",
          "name": "stdout",
          "text": [
            "                   all       2048       2195      0.969      0.937      0.963      0.677\n"
          ]
        },
        {
          "output_type": "stream",
          "name": "stderr",
          "text": [
            "\n"
          ]
        },
        {
          "output_type": "stream",
          "name": "stdout",
          "text": [
            "\n",
            "20 epochs completed in 1.655 hours.\n",
            "Optimizer stripped from runs/detect/train/weights/last.pt, 40.5MB\n",
            "Optimizer stripped from runs/detect/train/weights/best.pt, 40.5MB\n",
            "\n",
            "Validating runs/detect/train/weights/best.pt...\n",
            "Ultralytics 8.3.110 🚀 Python-3.11.12 torch-2.6.0+cu124 CUDA:0 (Tesla T4, 15095MiB)\n",
            "YOLO11m summary (fused): 125 layers, 20,030,803 parameters, 0 gradients, 67.6 GFLOPs\n"
          ]
        },
        {
          "output_type": "stream",
          "name": "stderr",
          "text": [
            "                 Class     Images  Instances      Box(P          R      mAP50  mAP50-95): 100%|██████████| 128/128 [00:24<00:00,  5.33it/s]\n"
          ]
        },
        {
          "output_type": "stream",
          "name": "stdout",
          "text": [
            "                   all       2048       2195      0.971      0.929      0.965      0.677\n",
            "Speed: 0.2ms preprocess, 6.8ms inference, 0.0ms loss, 1.1ms postprocess per image\n",
            "Results saved to \u001b[1mruns/detect/train\u001b[0m\n"
          ]
        },
        {
          "output_type": "execute_result",
          "data": {
            "text/plain": [
              "ultralytics.utils.metrics.DetMetrics object with attributes:\n",
              "\n",
              "ap_class_index: array([0])\n",
              "box: ultralytics.utils.metrics.Metric object\n",
              "confusion_matrix: <ultralytics.utils.metrics.ConfusionMatrix object at 0x7d986d926f10>\n",
              "curves: ['Precision-Recall(B)', 'F1-Confidence(B)', 'Precision-Confidence(B)', 'Recall-Confidence(B)']\n",
              "curves_results: [[array([          0,    0.001001,    0.002002,    0.003003,    0.004004,    0.005005,    0.006006,    0.007007,    0.008008,    0.009009,     0.01001,    0.011011,    0.012012,    0.013013,    0.014014,    0.015015,    0.016016,    0.017017,    0.018018,    0.019019,     0.02002,    0.021021,    0.022022,    0.023023,\n",
              "          0.024024,    0.025025,    0.026026,    0.027027,    0.028028,    0.029029,     0.03003,    0.031031,    0.032032,    0.033033,    0.034034,    0.035035,    0.036036,    0.037037,    0.038038,    0.039039,     0.04004,    0.041041,    0.042042,    0.043043,    0.044044,    0.045045,    0.046046,    0.047047,\n",
              "          0.048048,    0.049049,     0.05005,    0.051051,    0.052052,    0.053053,    0.054054,    0.055055,    0.056056,    0.057057,    0.058058,    0.059059,     0.06006,    0.061061,    0.062062,    0.063063,    0.064064,    0.065065,    0.066066,    0.067067,    0.068068,    0.069069,     0.07007,    0.071071,\n",
              "          0.072072,    0.073073,    0.074074,    0.075075,    0.076076,    0.077077,    0.078078,    0.079079,     0.08008,    0.081081,    0.082082,    0.083083,    0.084084,    0.085085,    0.086086,    0.087087,    0.088088,    0.089089,     0.09009,    0.091091,    0.092092,    0.093093,    0.094094,    0.095095,\n",
              "          0.096096,    0.097097,    0.098098,    0.099099,      0.1001,      0.1011,      0.1021,      0.1031,      0.1041,     0.10511,     0.10611,     0.10711,     0.10811,     0.10911,     0.11011,     0.11111,     0.11211,     0.11311,     0.11411,     0.11512,     0.11612,     0.11712,     0.11812,     0.11912,\n",
              "           0.12012,     0.12112,     0.12212,     0.12312,     0.12412,     0.12513,     0.12613,     0.12713,     0.12813,     0.12913,     0.13013,     0.13113,     0.13213,     0.13313,     0.13413,     0.13514,     0.13614,     0.13714,     0.13814,     0.13914,     0.14014,     0.14114,     0.14214,     0.14314,\n",
              "           0.14414,     0.14515,     0.14615,     0.14715,     0.14815,     0.14915,     0.15015,     0.15115,     0.15215,     0.15315,     0.15415,     0.15516,     0.15616,     0.15716,     0.15816,     0.15916,     0.16016,     0.16116,     0.16216,     0.16316,     0.16416,     0.16517,     0.16617,     0.16717,\n",
              "           0.16817,     0.16917,     0.17017,     0.17117,     0.17217,     0.17317,     0.17417,     0.17518,     0.17618,     0.17718,     0.17818,     0.17918,     0.18018,     0.18118,     0.18218,     0.18318,     0.18418,     0.18519,     0.18619,     0.18719,     0.18819,     0.18919,     0.19019,     0.19119,\n",
              "           0.19219,     0.19319,     0.19419,      0.1952,      0.1962,      0.1972,      0.1982,      0.1992,      0.2002,      0.2012,      0.2022,      0.2032,      0.2042,     0.20521,     0.20621,     0.20721,     0.20821,     0.20921,     0.21021,     0.21121,     0.21221,     0.21321,     0.21421,     0.21522,\n",
              "           0.21622,     0.21722,     0.21822,     0.21922,     0.22022,     0.22122,     0.22222,     0.22322,     0.22422,     0.22523,     0.22623,     0.22723,     0.22823,     0.22923,     0.23023,     0.23123,     0.23223,     0.23323,     0.23423,     0.23524,     0.23624,     0.23724,     0.23824,     0.23924,\n",
              "           0.24024,     0.24124,     0.24224,     0.24324,     0.24424,     0.24525,     0.24625,     0.24725,     0.24825,     0.24925,     0.25025,     0.25125,     0.25225,     0.25325,     0.25425,     0.25526,     0.25626,     0.25726,     0.25826,     0.25926,     0.26026,     0.26126,     0.26226,     0.26326,\n",
              "           0.26426,     0.26527,     0.26627,     0.26727,     0.26827,     0.26927,     0.27027,     0.27127,     0.27227,     0.27327,     0.27427,     0.27528,     0.27628,     0.27728,     0.27828,     0.27928,     0.28028,     0.28128,     0.28228,     0.28328,     0.28428,     0.28529,     0.28629,     0.28729,\n",
              "           0.28829,     0.28929,     0.29029,     0.29129,     0.29229,     0.29329,     0.29429,      0.2953,      0.2963,      0.2973,      0.2983,      0.2993,      0.3003,      0.3013,      0.3023,      0.3033,      0.3043,     0.30531,     0.30631,     0.30731,     0.30831,     0.30931,     0.31031,     0.31131,\n",
              "           0.31231,     0.31331,     0.31431,     0.31532,     0.31632,     0.31732,     0.31832,     0.31932,     0.32032,     0.32132,     0.32232,     0.32332,     0.32432,     0.32533,     0.32633,     0.32733,     0.32833,     0.32933,     0.33033,     0.33133,     0.33233,     0.33333,     0.33433,     0.33534,\n",
              "           0.33634,     0.33734,     0.33834,     0.33934,     0.34034,     0.34134,     0.34234,     0.34334,     0.34434,     0.34535,     0.34635,     0.34735,     0.34835,     0.34935,     0.35035,     0.35135,     0.35235,     0.35335,     0.35435,     0.35536,     0.35636,     0.35736,     0.35836,     0.35936,\n",
              "           0.36036,     0.36136,     0.36236,     0.36336,     0.36436,     0.36537,     0.36637,     0.36737,     0.36837,     0.36937,     0.37037,     0.37137,     0.37237,     0.37337,     0.37437,     0.37538,     0.37638,     0.37738,     0.37838,     0.37938,     0.38038,     0.38138,     0.38238,     0.38338,\n",
              "           0.38438,     0.38539,     0.38639,     0.38739,     0.38839,     0.38939,     0.39039,     0.39139,     0.39239,     0.39339,     0.39439,      0.3954,      0.3964,      0.3974,      0.3984,      0.3994,      0.4004,      0.4014,      0.4024,      0.4034,      0.4044,     0.40541,     0.40641,     0.40741,\n",
              "           0.40841,     0.40941,     0.41041,     0.41141,     0.41241,     0.41341,     0.41441,     0.41542,     0.41642,     0.41742,     0.41842,     0.41942,     0.42042,     0.42142,     0.42242,     0.42342,     0.42442,     0.42543,     0.42643,     0.42743,     0.42843,     0.42943,     0.43043,     0.43143,\n",
              "           0.43243,     0.43343,     0.43443,     0.43544,     0.43644,     0.43744,     0.43844,     0.43944,     0.44044,     0.44144,     0.44244,     0.44344,     0.44444,     0.44545,     0.44645,     0.44745,     0.44845,     0.44945,     0.45045,     0.45145,     0.45245,     0.45345,     0.45445,     0.45546,\n",
              "           0.45646,     0.45746,     0.45846,     0.45946,     0.46046,     0.46146,     0.46246,     0.46346,     0.46446,     0.46547,     0.46647,     0.46747,     0.46847,     0.46947,     0.47047,     0.47147,     0.47247,     0.47347,     0.47447,     0.47548,     0.47648,     0.47748,     0.47848,     0.47948,\n",
              "           0.48048,     0.48148,     0.48248,     0.48348,     0.48448,     0.48549,     0.48649,     0.48749,     0.48849,     0.48949,     0.49049,     0.49149,     0.49249,     0.49349,     0.49449,      0.4955,      0.4965,      0.4975,      0.4985,      0.4995,      0.5005,      0.5015,      0.5025,      0.5035,\n",
              "            0.5045,     0.50551,     0.50651,     0.50751,     0.50851,     0.50951,     0.51051,     0.51151,     0.51251,     0.51351,     0.51451,     0.51552,     0.51652,     0.51752,     0.51852,     0.51952,     0.52052,     0.52152,     0.52252,     0.52352,     0.52452,     0.52553,     0.52653,     0.52753,\n",
              "           0.52853,     0.52953,     0.53053,     0.53153,     0.53253,     0.53353,     0.53453,     0.53554,     0.53654,     0.53754,     0.53854,     0.53954,     0.54054,     0.54154,     0.54254,     0.54354,     0.54454,     0.54555,     0.54655,     0.54755,     0.54855,     0.54955,     0.55055,     0.55155,\n",
              "           0.55255,     0.55355,     0.55455,     0.55556,     0.55656,     0.55756,     0.55856,     0.55956,     0.56056,     0.56156,     0.56256,     0.56356,     0.56456,     0.56557,     0.56657,     0.56757,     0.56857,     0.56957,     0.57057,     0.57157,     0.57257,     0.57357,     0.57457,     0.57558,\n",
              "           0.57658,     0.57758,     0.57858,     0.57958,     0.58058,     0.58158,     0.58258,     0.58358,     0.58458,     0.58559,     0.58659,     0.58759,     0.58859,     0.58959,     0.59059,     0.59159,     0.59259,     0.59359,     0.59459,      0.5956,      0.5966,      0.5976,      0.5986,      0.5996,\n",
              "            0.6006,      0.6016,      0.6026,      0.6036,      0.6046,     0.60561,     0.60661,     0.60761,     0.60861,     0.60961,     0.61061,     0.61161,     0.61261,     0.61361,     0.61461,     0.61562,     0.61662,     0.61762,     0.61862,     0.61962,     0.62062,     0.62162,     0.62262,     0.62362,\n",
              "           0.62462,     0.62563,     0.62663,     0.62763,     0.62863,     0.62963,     0.63063,     0.63163,     0.63263,     0.63363,     0.63463,     0.63564,     0.63664,     0.63764,     0.63864,     0.63964,     0.64064,     0.64164,     0.64264,     0.64364,     0.64464,     0.64565,     0.64665,     0.64765,\n",
              "           0.64865,     0.64965,     0.65065,     0.65165,     0.65265,     0.65365,     0.65465,     0.65566,     0.65666,     0.65766,     0.65866,     0.65966,     0.66066,     0.66166,     0.66266,     0.66366,     0.66466,     0.66567,     0.66667,     0.66767,     0.66867,     0.66967,     0.67067,     0.67167,\n",
              "           0.67267,     0.67367,     0.67467,     0.67568,     0.67668,     0.67768,     0.67868,     0.67968,     0.68068,     0.68168,     0.68268,     0.68368,     0.68468,     0.68569,     0.68669,     0.68769,     0.68869,     0.68969,     0.69069,     0.69169,     0.69269,     0.69369,     0.69469,      0.6957,\n",
              "            0.6967,      0.6977,      0.6987,      0.6997,      0.7007,      0.7017,      0.7027,      0.7037,      0.7047,     0.70571,     0.70671,     0.70771,     0.70871,     0.70971,     0.71071,     0.71171,     0.71271,     0.71371,     0.71471,     0.71572,     0.71672,     0.71772,     0.71872,     0.71972,\n",
              "           0.72072,     0.72172,     0.72272,     0.72372,     0.72472,     0.72573,     0.72673,     0.72773,     0.72873,     0.72973,     0.73073,     0.73173,     0.73273,     0.73373,     0.73473,     0.73574,     0.73674,     0.73774,     0.73874,     0.73974,     0.74074,     0.74174,     0.74274,     0.74374,\n",
              "           0.74474,     0.74575,     0.74675,     0.74775,     0.74875,     0.74975,     0.75075,     0.75175,     0.75275,     0.75375,     0.75475,     0.75576,     0.75676,     0.75776,     0.75876,     0.75976,     0.76076,     0.76176,     0.76276,     0.76376,     0.76476,     0.76577,     0.76677,     0.76777,\n",
              "           0.76877,     0.76977,     0.77077,     0.77177,     0.77277,     0.77377,     0.77477,     0.77578,     0.77678,     0.77778,     0.77878,     0.77978,     0.78078,     0.78178,     0.78278,     0.78378,     0.78478,     0.78579,     0.78679,     0.78779,     0.78879,     0.78979,     0.79079,     0.79179,\n",
              "           0.79279,     0.79379,     0.79479,      0.7958,      0.7968,      0.7978,      0.7988,      0.7998,      0.8008,      0.8018,      0.8028,      0.8038,      0.8048,     0.80581,     0.80681,     0.80781,     0.80881,     0.80981,     0.81081,     0.81181,     0.81281,     0.81381,     0.81481,     0.81582,\n",
              "           0.81682,     0.81782,     0.81882,     0.81982,     0.82082,     0.82182,     0.82282,     0.82382,     0.82482,     0.82583,     0.82683,     0.82783,     0.82883,     0.82983,     0.83083,     0.83183,     0.83283,     0.83383,     0.83483,     0.83584,     0.83684,     0.83784,     0.83884,     0.83984,\n",
              "           0.84084,     0.84184,     0.84284,     0.84384,     0.84484,     0.84585,     0.84685,     0.84785,     0.84885,     0.84985,     0.85085,     0.85185,     0.85285,     0.85385,     0.85485,     0.85586,     0.85686,     0.85786,     0.85886,     0.85986,     0.86086,     0.86186,     0.86286,     0.86386,\n",
              "           0.86486,     0.86587,     0.86687,     0.86787,     0.86887,     0.86987,     0.87087,     0.87187,     0.87287,     0.87387,     0.87487,     0.87588,     0.87688,     0.87788,     0.87888,     0.87988,     0.88088,     0.88188,     0.88288,     0.88388,     0.88488,     0.88589,     0.88689,     0.88789,\n",
              "           0.88889,     0.88989,     0.89089,     0.89189,     0.89289,     0.89389,     0.89489,      0.8959,      0.8969,      0.8979,      0.8989,      0.8999,      0.9009,      0.9019,      0.9029,      0.9039,      0.9049,     0.90591,     0.90691,     0.90791,     0.90891,     0.90991,     0.91091,     0.91191,\n",
              "           0.91291,     0.91391,     0.91491,     0.91592,     0.91692,     0.91792,     0.91892,     0.91992,     0.92092,     0.92192,     0.92292,     0.92392,     0.92492,     0.92593,     0.92693,     0.92793,     0.92893,     0.92993,     0.93093,     0.93193,     0.93293,     0.93393,     0.93493,     0.93594,\n",
              "           0.93694,     0.93794,     0.93894,     0.93994,     0.94094,     0.94194,     0.94294,     0.94394,     0.94494,     0.94595,     0.94695,     0.94795,     0.94895,     0.94995,     0.95095,     0.95195,     0.95295,     0.95395,     0.95495,     0.95596,     0.95696,     0.95796,     0.95896,     0.95996,\n",
              "           0.96096,     0.96196,     0.96296,     0.96396,     0.96496,     0.96597,     0.96697,     0.96797,     0.96897,     0.96997,     0.97097,     0.97197,     0.97297,     0.97397,     0.97497,     0.97598,     0.97698,     0.97798,     0.97898,     0.97998,     0.98098,     0.98198,     0.98298,     0.98398,\n",
              "           0.98498,     0.98599,     0.98699,     0.98799,     0.98899,     0.98999,     0.99099,     0.99199,     0.99299,     0.99399,     0.99499,       0.996,       0.997,       0.998,       0.999,           1]), array([[          1,           1,           1,           1,           1,           1,           1,           1,           1,           1,           1,           1,           1,     0.99851,     0.99851,     0.99851,     0.99851,     0.99851,     0.99851,     0.99851,     0.99851,     0.99851,     0.99851,\n",
              "            0.99851,     0.99851,     0.99851,     0.99851,     0.99851,     0.99851,     0.99851,     0.99851,     0.99851,     0.99851,     0.99851,     0.99851,     0.99851,     0.99851,     0.99851,     0.99851,     0.99851,     0.99851,     0.99851,     0.99851,     0.99851,     0.99851,     0.99851,\n",
              "            0.99851,     0.99851,     0.99851,     0.99851,     0.99851,     0.99851,     0.99851,     0.99851,     0.99851,     0.99851,     0.99851,     0.99851,     0.99851,     0.99851,     0.99851,     0.99851,     0.99851,     0.99851,     0.99851,     0.99851,     0.99851,     0.99851,     0.99851,\n",
              "            0.99851,     0.99851,     0.99851,     0.99851,     0.99851,     0.99851,     0.99851,     0.99851,     0.99851,     0.99851,     0.99851,     0.99851,     0.99851,     0.99851,     0.99851,     0.99851,     0.99851,     0.99851,     0.99851,     0.99851,     0.99851,     0.99851,     0.99851,\n",
              "            0.99851,     0.99851,     0.99851,     0.99851,     0.99851,     0.99851,     0.99851,     0.99851,     0.99851,     0.99851,     0.99851,     0.99851,     0.99851,     0.99851,     0.99851,     0.99851,     0.99851,     0.99851,     0.99851,     0.99851,     0.99851,     0.99851,     0.99851,\n",
              "            0.99851,     0.99851,     0.99851,     0.99851,     0.99851,     0.99851,     0.99851,     0.99851,     0.99851,     0.99851,     0.99851,     0.99851,     0.99851,     0.99851,     0.99851,     0.99851,     0.99851,     0.99851,     0.99851,     0.99851,     0.99851,     0.99851,     0.99851,\n",
              "            0.99851,     0.99851,     0.99851,     0.99851,     0.99851,     0.99851,     0.99851,     0.99851,     0.99851,     0.99851,     0.99851,     0.99851,     0.99851,     0.99851,     0.99851,     0.99851,     0.99851,     0.99851,     0.99851,     0.99851,     0.99851,     0.99851,     0.99851,\n",
              "            0.99851,     0.99851,     0.99851,     0.99851,     0.99851,     0.99851,     0.99851,     0.99851,     0.99851,     0.99851,     0.99851,     0.99851,     0.99851,     0.99851,     0.99851,     0.99851,     0.99851,     0.99851,     0.99851,     0.99851,     0.99851,     0.99851,     0.99851,\n",
              "            0.99851,     0.99851,     0.99851,     0.99851,     0.99851,     0.99851,     0.99851,     0.99851,     0.99851,     0.99851,     0.99851,     0.99851,     0.99851,     0.99851,     0.99851,     0.99851,     0.99851,     0.99851,     0.99851,     0.99851,     0.99851,     0.99851,     0.99851,\n",
              "            0.99851,     0.99851,     0.99851,     0.99851,     0.99851,     0.99851,     0.99851,     0.99851,     0.99851,     0.99851,     0.99851,     0.99851,     0.99851,     0.99851,     0.99851,     0.99851,     0.99851,     0.99851,     0.99851,     0.99851,     0.99851,     0.99851,     0.99851,\n",
              "            0.99851,     0.99851,     0.99851,     0.99851,     0.99851,     0.99851,     0.99851,     0.99851,     0.99851,     0.99851,     0.99851,     0.99851,     0.99851,     0.99851,     0.99851,     0.99851,     0.99851,     0.99851,     0.99851,     0.99851,     0.99851,     0.99851,     0.99851,\n",
              "            0.99851,     0.99851,     0.99851,     0.99851,     0.99851,     0.99851,     0.99851,     0.99851,     0.99851,     0.99851,     0.99851,     0.99851,     0.99851,     0.99851,     0.99851,     0.99851,     0.99851,     0.99851,     0.99851,     0.99851,     0.99851,     0.99851,     0.99851,\n",
              "            0.99851,     0.99851,     0.99851,     0.99851,     0.99851,     0.99851,     0.99851,     0.99851,     0.99851,     0.99851,     0.99851,     0.99851,     0.99851,     0.99851,     0.99851,     0.99851,     0.99851,     0.99851,     0.99851,     0.99851,     0.99851,     0.99851,     0.99851,\n",
              "            0.99851,     0.99851,     0.99851,     0.99851,     0.99851,     0.99851,     0.99806,     0.99806,     0.99806,     0.99806,     0.99806,     0.99806,     0.99806,     0.99806,     0.99806,     0.99806,     0.99806,     0.99806,     0.99806,     0.99806,     0.99806,     0.99806,     0.99806,\n",
              "            0.99806,     0.99806,     0.99806,     0.99806,     0.99806,     0.99806,     0.99806,     0.99806,     0.99806,     0.99806,     0.99806,     0.99806,     0.99806,     0.99806,     0.99806,     0.99806,     0.99806,     0.99806,     0.99806,     0.99806,     0.99806,     0.99806,     0.99806,\n",
              "            0.99806,     0.99806,     0.99806,     0.99806,     0.99806,     0.99806,     0.99806,     0.99806,     0.99806,     0.99806,     0.99806,     0.99806,     0.99806,     0.99806,     0.99806,     0.99806,     0.99806,     0.99806,     0.99806,     0.99806,     0.99806,     0.99806,     0.99806,\n",
              "            0.99806,     0.99806,     0.99806,     0.99806,     0.99806,     0.99806,     0.99806,     0.99806,     0.99806,     0.99806,     0.99806,     0.99806,     0.99806,     0.99806,     0.99806,     0.99806,     0.99806,     0.99806,     0.99806,     0.99806,     0.99806,     0.99806,     0.99806,\n",
              "            0.99806,     0.99806,     0.99806,     0.99806,     0.99806,     0.99806,     0.99806,     0.99806,     0.99806,     0.99806,     0.99806,     0.99806,     0.99806,     0.99806,     0.99806,     0.99806,     0.99806,     0.99806,     0.99806,     0.99806,     0.99806,     0.99806,     0.99806,\n",
              "            0.99806,     0.99806,     0.99806,     0.99806,     0.99806,     0.99806,     0.99806,     0.99806,     0.99806,     0.99806,     0.99806,     0.99806,     0.99806,     0.99806,     0.99806,     0.99806,     0.99806,     0.99806,     0.99806,     0.99806,     0.99806,     0.99806,     0.99806,\n",
              "            0.99806,     0.99806,     0.99806,     0.99806,     0.99806,     0.99806,     0.99806,     0.99806,     0.99806,     0.99806,     0.99806,     0.99806,     0.99806,     0.99806,     0.99806,     0.99806,     0.99806,     0.99806,     0.99806,     0.99806,     0.99806,     0.99806,     0.99806,\n",
              "            0.99806,     0.99806,     0.99806,     0.99806,     0.99806,     0.99806,     0.99806,     0.99806,     0.99806,     0.99806,     0.99806,     0.99806,     0.99806,     0.99806,     0.99806,     0.99806,     0.99806,     0.99806,     0.99806,     0.99806,     0.99806,     0.99806,     0.99806,\n",
              "            0.99806,     0.99806,     0.99806,     0.99806,     0.99806,     0.99806,     0.99806,     0.99806,     0.99806,     0.99806,     0.99806,     0.99806,     0.99806,     0.99806,     0.99806,     0.99806,     0.99806,     0.99806,     0.99806,     0.99806,     0.99806,     0.99806,     0.99806,\n",
              "            0.99806,     0.99806,     0.99806,     0.99806,     0.99806,     0.99806,     0.99806,     0.99806,     0.99806,     0.99806,     0.99806,     0.99806,     0.99806,     0.99806,     0.99806,     0.99806,     0.99806,     0.99806,     0.99806,     0.99806,     0.99806,     0.99806,     0.99806,\n",
              "            0.99806,     0.99806,     0.99806,     0.99806,     0.99806,     0.99806,     0.99806,     0.99806,     0.99806,     0.99806,     0.99806,     0.99806,     0.99806,     0.99806,     0.99806,     0.99806,     0.99806,     0.99806,     0.99806,     0.99806,     0.99806,     0.99806,     0.99806,\n",
              "            0.99806,     0.99806,     0.99806,     0.99806,     0.99806,     0.99806,     0.99806,     0.99806,     0.99806,     0.99806,     0.99806,     0.99806,     0.99806,     0.99806,     0.99806,     0.99806,     0.99806,     0.99806,     0.99806,     0.99806,     0.99806,     0.99806,     0.99806,\n",
              "            0.99806,     0.99806,     0.99806,     0.99806,     0.99806,     0.99806,     0.99806,     0.99806,     0.99806,     0.99806,     0.99806,     0.99806,     0.99806,     0.99806,     0.99806,     0.99806,     0.99806,     0.99806,     0.99806,     0.99806,     0.99806,     0.99806,     0.99806,\n",
              "            0.99806,     0.99806,     0.99806,     0.99806,     0.99806,     0.99806,     0.99806,     0.99806,     0.99806,     0.99806,     0.99806,     0.99806,     0.99806,     0.99806,     0.99806,     0.99806,     0.99806,     0.99806,     0.99806,     0.99806,     0.99806,     0.99806,     0.99806,\n",
              "            0.99806,     0.99806,     0.99806,     0.99806,     0.99806,     0.99806,     0.99806,     0.99806,     0.99806,     0.99806,     0.99806,     0.99806,     0.99806,     0.99806,     0.99806,     0.99806,     0.99806,     0.99806,     0.99806,     0.99806,     0.99806,     0.99806,     0.99806,\n",
              "            0.99806,     0.99806,     0.99806,     0.99806,     0.99806,     0.99806,     0.99806,     0.99806,     0.99806,     0.99806,     0.99806,     0.99806,     0.99806,     0.99806,     0.99806,     0.99806,     0.99806,     0.99806,     0.99806,     0.99806,     0.99806,     0.99806,     0.99806,\n",
              "            0.99806,     0.99806,     0.99806,     0.99806,     0.99806,     0.99806,     0.99806,     0.99806,     0.99806,     0.99806,     0.99806,     0.99806,     0.99806,     0.99806,     0.99806,     0.99806,     0.99806,     0.99806,     0.99806,     0.99806,     0.99806,     0.99806,     0.99806,\n",
              "            0.99806,     0.99806,     0.99806,     0.99806,     0.99806,     0.99806,     0.99806,     0.99806,     0.99806,     0.99806,     0.99806,     0.99806,     0.99752,     0.99752,     0.99752,     0.99752,     0.99752,     0.99752,     0.99752,     0.99752,     0.99752,     0.99752,     0.99752,\n",
              "            0.99752,     0.99752,     0.99752,     0.99752,     0.99752,     0.99752,     0.99752,     0.99752,     0.99752,     0.99752,     0.99752,     0.99752,     0.99752,     0.99752,     0.99752,     0.99752,     0.99752,     0.99752,     0.99752,     0.99752,     0.99701,     0.99701,     0.99701,\n",
              "            0.99701,     0.99701,     0.99701,     0.99701,     0.99701,     0.99701,     0.99701,     0.99701,     0.99701,     0.99701,     0.99701,     0.99701,     0.99701,     0.99701,     0.99701,     0.99701,     0.99701,     0.99701,     0.99701,     0.99701,     0.99701,     0.99701,     0.99663,\n",
              "            0.99663,     0.99663,     0.99663,     0.99663,     0.99663,     0.99663,     0.99663,     0.99663,     0.99663,     0.99663,     0.99663,     0.99663,     0.99663,     0.99663,     0.99663,     0.99663,     0.99663,     0.99663,     0.99663,     0.99663,     0.99663,     0.99663,     0.99663,\n",
              "            0.99663,     0.99663,     0.99663,     0.99663,     0.99663,     0.99663,     0.99663,     0.99663,     0.99663,     0.99663,     0.99663,     0.99663,     0.99663,     0.99663,     0.99663,     0.99663,     0.99663,     0.99663,     0.99663,     0.99663,     0.99663,     0.99663,     0.99663,\n",
              "            0.99663,     0.99663,      0.9961,      0.9961,      0.9961,      0.9961,      0.9961,      0.9961,     0.99556,     0.99556,     0.99556,     0.99556,     0.99503,     0.99503,     0.99503,     0.99503,     0.99449,     0.99373,     0.99373,     0.99373,     0.99373,     0.99373,     0.99373,\n",
              "            0.99373,     0.99373,     0.99373,     0.99373,     0.99373,     0.99373,     0.99373,     0.99373,     0.99373,     0.99373,     0.99373,     0.99373,     0.99373,     0.99373,     0.99373,     0.99373,     0.99373,     0.99373,     0.99373,     0.99373,     0.99373,     0.99373,     0.99373,\n",
              "            0.99373,     0.99373,     0.99373,     0.99373,     0.99373,     0.99373,     0.99373,     0.99373,     0.99373,     0.99373,     0.99373,     0.99373,     0.99373,     0.99373,     0.99373,     0.99373,     0.99325,     0.99325,     0.99325,     0.99325,     0.99277,     0.99277,     0.99277,\n",
              "            0.99277,     0.99226,     0.99126,     0.99126,     0.99026,     0.99026,     0.98978,     0.98978,     0.98929,     0.98881,     0.98881,     0.98835,     0.98835,     0.98835,     0.98791,     0.98791,     0.98791,     0.98791,     0.98791,     0.98693,     0.98645,     0.98597,     0.98551,\n",
              "            0.98551,      0.9851,      0.9851,      0.9851,      0.9851,      0.9851,     0.98463,     0.98415,      0.9832,     0.98274,     0.98274,     0.98228,     0.98182,     0.98088,     0.98044,     0.98044,     0.97911,     0.97911,     0.97911,     0.97911,     0.97911,     0.97826,     0.97826,\n",
              "            0.97826,     0.97826,     0.97733,     0.97689,     0.97644,     0.97601,     0.97556,     0.97465,     0.97189,     0.97053,     0.96826,     0.96693,     0.96241,     0.96109,     0.95577,     0.95007,     0.94885,     0.94885,     0.94848,     0.94722,     0.93955,     0.93872,     0.93496,\n",
              "             0.9321,     0.92263,     0.91943,     0.91626,     0.91392,      0.9132,     0.89643,     0.88738,     0.88372,     0.87276,     0.85785,     0.85036,     0.84705,     0.82489,     0.82084,     0.79344,        0.76,     0.75062,     0.72453,     0.65489,     0.64141,     0.61385,     0.58237,\n",
              "            0.54103,     0.48952,     0.47078,     0.42481,     0.33344,     0.25795,     0.24784,     0.23866,     0.22948,      0.2203,     0.21112,     0.20194,     0.19276,     0.18358,      0.1744,     0.16522,     0.15604,     0.14687,     0.13769,     0.12851,     0.11933,     0.11015,     0.10097,\n",
              "           0.091791,    0.082612,    0.073433,    0.064254,    0.055075,    0.045896,    0.036716,    0.027537,    0.018358,   0.0091791,           0]]), 'Recall', 'Precision'], [array([          0,    0.001001,    0.002002,    0.003003,    0.004004,    0.005005,    0.006006,    0.007007,    0.008008,    0.009009,     0.01001,    0.011011,    0.012012,    0.013013,    0.014014,    0.015015,    0.016016,    0.017017,    0.018018,    0.019019,     0.02002,    0.021021,    0.022022,    0.023023,\n",
              "          0.024024,    0.025025,    0.026026,    0.027027,    0.028028,    0.029029,     0.03003,    0.031031,    0.032032,    0.033033,    0.034034,    0.035035,    0.036036,    0.037037,    0.038038,    0.039039,     0.04004,    0.041041,    0.042042,    0.043043,    0.044044,    0.045045,    0.046046,    0.047047,\n",
              "          0.048048,    0.049049,     0.05005,    0.051051,    0.052052,    0.053053,    0.054054,    0.055055,    0.056056,    0.057057,    0.058058,    0.059059,     0.06006,    0.061061,    0.062062,    0.063063,    0.064064,    0.065065,    0.066066,    0.067067,    0.068068,    0.069069,     0.07007,    0.071071,\n",
              "          0.072072,    0.073073,    0.074074,    0.075075,    0.076076,    0.077077,    0.078078,    0.079079,     0.08008,    0.081081,    0.082082,    0.083083,    0.084084,    0.085085,    0.086086,    0.087087,    0.088088,    0.089089,     0.09009,    0.091091,    0.092092,    0.093093,    0.094094,    0.095095,\n",
              "          0.096096,    0.097097,    0.098098,    0.099099,      0.1001,      0.1011,      0.1021,      0.1031,      0.1041,     0.10511,     0.10611,     0.10711,     0.10811,     0.10911,     0.11011,     0.11111,     0.11211,     0.11311,     0.11411,     0.11512,     0.11612,     0.11712,     0.11812,     0.11912,\n",
              "           0.12012,     0.12112,     0.12212,     0.12312,     0.12412,     0.12513,     0.12613,     0.12713,     0.12813,     0.12913,     0.13013,     0.13113,     0.13213,     0.13313,     0.13413,     0.13514,     0.13614,     0.13714,     0.13814,     0.13914,     0.14014,     0.14114,     0.14214,     0.14314,\n",
              "           0.14414,     0.14515,     0.14615,     0.14715,     0.14815,     0.14915,     0.15015,     0.15115,     0.15215,     0.15315,     0.15415,     0.15516,     0.15616,     0.15716,     0.15816,     0.15916,     0.16016,     0.16116,     0.16216,     0.16316,     0.16416,     0.16517,     0.16617,     0.16717,\n",
              "           0.16817,     0.16917,     0.17017,     0.17117,     0.17217,     0.17317,     0.17417,     0.17518,     0.17618,     0.17718,     0.17818,     0.17918,     0.18018,     0.18118,     0.18218,     0.18318,     0.18418,     0.18519,     0.18619,     0.18719,     0.18819,     0.18919,     0.19019,     0.19119,\n",
              "           0.19219,     0.19319,     0.19419,      0.1952,      0.1962,      0.1972,      0.1982,      0.1992,      0.2002,      0.2012,      0.2022,      0.2032,      0.2042,     0.20521,     0.20621,     0.20721,     0.20821,     0.20921,     0.21021,     0.21121,     0.21221,     0.21321,     0.21421,     0.21522,\n",
              "           0.21622,     0.21722,     0.21822,     0.21922,     0.22022,     0.22122,     0.22222,     0.22322,     0.22422,     0.22523,     0.22623,     0.22723,     0.22823,     0.22923,     0.23023,     0.23123,     0.23223,     0.23323,     0.23423,     0.23524,     0.23624,     0.23724,     0.23824,     0.23924,\n",
              "           0.24024,     0.24124,     0.24224,     0.24324,     0.24424,     0.24525,     0.24625,     0.24725,     0.24825,     0.24925,     0.25025,     0.25125,     0.25225,     0.25325,     0.25425,     0.25526,     0.25626,     0.25726,     0.25826,     0.25926,     0.26026,     0.26126,     0.26226,     0.26326,\n",
              "           0.26426,     0.26527,     0.26627,     0.26727,     0.26827,     0.26927,     0.27027,     0.27127,     0.27227,     0.27327,     0.27427,     0.27528,     0.27628,     0.27728,     0.27828,     0.27928,     0.28028,     0.28128,     0.28228,     0.28328,     0.28428,     0.28529,     0.28629,     0.28729,\n",
              "           0.28829,     0.28929,     0.29029,     0.29129,     0.29229,     0.29329,     0.29429,      0.2953,      0.2963,      0.2973,      0.2983,      0.2993,      0.3003,      0.3013,      0.3023,      0.3033,      0.3043,     0.30531,     0.30631,     0.30731,     0.30831,     0.30931,     0.31031,     0.31131,\n",
              "           0.31231,     0.31331,     0.31431,     0.31532,     0.31632,     0.31732,     0.31832,     0.31932,     0.32032,     0.32132,     0.32232,     0.32332,     0.32432,     0.32533,     0.32633,     0.32733,     0.32833,     0.32933,     0.33033,     0.33133,     0.33233,     0.33333,     0.33433,     0.33534,\n",
              "           0.33634,     0.33734,     0.33834,     0.33934,     0.34034,     0.34134,     0.34234,     0.34334,     0.34434,     0.34535,     0.34635,     0.34735,     0.34835,     0.34935,     0.35035,     0.35135,     0.35235,     0.35335,     0.35435,     0.35536,     0.35636,     0.35736,     0.35836,     0.35936,\n",
              "           0.36036,     0.36136,     0.36236,     0.36336,     0.36436,     0.36537,     0.36637,     0.36737,     0.36837,     0.36937,     0.37037,     0.37137,     0.37237,     0.37337,     0.37437,     0.37538,     0.37638,     0.37738,     0.37838,     0.37938,     0.38038,     0.38138,     0.38238,     0.38338,\n",
              "           0.38438,     0.38539,     0.38639,     0.38739,     0.38839,     0.38939,     0.39039,     0.39139,     0.39239,     0.39339,     0.39439,      0.3954,      0.3964,      0.3974,      0.3984,      0.3994,      0.4004,      0.4014,      0.4024,      0.4034,      0.4044,     0.40541,     0.40641,     0.40741,\n",
              "           0.40841,     0.40941,     0.41041,     0.41141,     0.41241,     0.41341,     0.41441,     0.41542,     0.41642,     0.41742,     0.41842,     0.41942,     0.42042,     0.42142,     0.42242,     0.42342,     0.42442,     0.42543,     0.42643,     0.42743,     0.42843,     0.42943,     0.43043,     0.43143,\n",
              "           0.43243,     0.43343,     0.43443,     0.43544,     0.43644,     0.43744,     0.43844,     0.43944,     0.44044,     0.44144,     0.44244,     0.44344,     0.44444,     0.44545,     0.44645,     0.44745,     0.44845,     0.44945,     0.45045,     0.45145,     0.45245,     0.45345,     0.45445,     0.45546,\n",
              "           0.45646,     0.45746,     0.45846,     0.45946,     0.46046,     0.46146,     0.46246,     0.46346,     0.46446,     0.46547,     0.46647,     0.46747,     0.46847,     0.46947,     0.47047,     0.47147,     0.47247,     0.47347,     0.47447,     0.47548,     0.47648,     0.47748,     0.47848,     0.47948,\n",
              "           0.48048,     0.48148,     0.48248,     0.48348,     0.48448,     0.48549,     0.48649,     0.48749,     0.48849,     0.48949,     0.49049,     0.49149,     0.49249,     0.49349,     0.49449,      0.4955,      0.4965,      0.4975,      0.4985,      0.4995,      0.5005,      0.5015,      0.5025,      0.5035,\n",
              "            0.5045,     0.50551,     0.50651,     0.50751,     0.50851,     0.50951,     0.51051,     0.51151,     0.51251,     0.51351,     0.51451,     0.51552,     0.51652,     0.51752,     0.51852,     0.51952,     0.52052,     0.52152,     0.52252,     0.52352,     0.52452,     0.52553,     0.52653,     0.52753,\n",
              "           0.52853,     0.52953,     0.53053,     0.53153,     0.53253,     0.53353,     0.53453,     0.53554,     0.53654,     0.53754,     0.53854,     0.53954,     0.54054,     0.54154,     0.54254,     0.54354,     0.54454,     0.54555,     0.54655,     0.54755,     0.54855,     0.54955,     0.55055,     0.55155,\n",
              "           0.55255,     0.55355,     0.55455,     0.55556,     0.55656,     0.55756,     0.55856,     0.55956,     0.56056,     0.56156,     0.56256,     0.56356,     0.56456,     0.56557,     0.56657,     0.56757,     0.56857,     0.56957,     0.57057,     0.57157,     0.57257,     0.57357,     0.57457,     0.57558,\n",
              "           0.57658,     0.57758,     0.57858,     0.57958,     0.58058,     0.58158,     0.58258,     0.58358,     0.58458,     0.58559,     0.58659,     0.58759,     0.58859,     0.58959,     0.59059,     0.59159,     0.59259,     0.59359,     0.59459,      0.5956,      0.5966,      0.5976,      0.5986,      0.5996,\n",
              "            0.6006,      0.6016,      0.6026,      0.6036,      0.6046,     0.60561,     0.60661,     0.60761,     0.60861,     0.60961,     0.61061,     0.61161,     0.61261,     0.61361,     0.61461,     0.61562,     0.61662,     0.61762,     0.61862,     0.61962,     0.62062,     0.62162,     0.62262,     0.62362,\n",
              "           0.62462,     0.62563,     0.62663,     0.62763,     0.62863,     0.62963,     0.63063,     0.63163,     0.63263,     0.63363,     0.63463,     0.63564,     0.63664,     0.63764,     0.63864,     0.63964,     0.64064,     0.64164,     0.64264,     0.64364,     0.64464,     0.64565,     0.64665,     0.64765,\n",
              "           0.64865,     0.64965,     0.65065,     0.65165,     0.65265,     0.65365,     0.65465,     0.65566,     0.65666,     0.65766,     0.65866,     0.65966,     0.66066,     0.66166,     0.66266,     0.66366,     0.66466,     0.66567,     0.66667,     0.66767,     0.66867,     0.66967,     0.67067,     0.67167,\n",
              "           0.67267,     0.67367,     0.67467,     0.67568,     0.67668,     0.67768,     0.67868,     0.67968,     0.68068,     0.68168,     0.68268,     0.68368,     0.68468,     0.68569,     0.68669,     0.68769,     0.68869,     0.68969,     0.69069,     0.69169,     0.69269,     0.69369,     0.69469,      0.6957,\n",
              "            0.6967,      0.6977,      0.6987,      0.6997,      0.7007,      0.7017,      0.7027,      0.7037,      0.7047,     0.70571,     0.70671,     0.70771,     0.70871,     0.70971,     0.71071,     0.71171,     0.71271,     0.71371,     0.71471,     0.71572,     0.71672,     0.71772,     0.71872,     0.71972,\n",
              "           0.72072,     0.72172,     0.72272,     0.72372,     0.72472,     0.72573,     0.72673,     0.72773,     0.72873,     0.72973,     0.73073,     0.73173,     0.73273,     0.73373,     0.73473,     0.73574,     0.73674,     0.73774,     0.73874,     0.73974,     0.74074,     0.74174,     0.74274,     0.74374,\n",
              "           0.74474,     0.74575,     0.74675,     0.74775,     0.74875,     0.74975,     0.75075,     0.75175,     0.75275,     0.75375,     0.75475,     0.75576,     0.75676,     0.75776,     0.75876,     0.75976,     0.76076,     0.76176,     0.76276,     0.76376,     0.76476,     0.76577,     0.76677,     0.76777,\n",
              "           0.76877,     0.76977,     0.77077,     0.77177,     0.77277,     0.77377,     0.77477,     0.77578,     0.77678,     0.77778,     0.77878,     0.77978,     0.78078,     0.78178,     0.78278,     0.78378,     0.78478,     0.78579,     0.78679,     0.78779,     0.78879,     0.78979,     0.79079,     0.79179,\n",
              "           0.79279,     0.79379,     0.79479,      0.7958,      0.7968,      0.7978,      0.7988,      0.7998,      0.8008,      0.8018,      0.8028,      0.8038,      0.8048,     0.80581,     0.80681,     0.80781,     0.80881,     0.80981,     0.81081,     0.81181,     0.81281,     0.81381,     0.81481,     0.81582,\n",
              "           0.81682,     0.81782,     0.81882,     0.81982,     0.82082,     0.82182,     0.82282,     0.82382,     0.82482,     0.82583,     0.82683,     0.82783,     0.82883,     0.82983,     0.83083,     0.83183,     0.83283,     0.83383,     0.83483,     0.83584,     0.83684,     0.83784,     0.83884,     0.83984,\n",
              "           0.84084,     0.84184,     0.84284,     0.84384,     0.84484,     0.84585,     0.84685,     0.84785,     0.84885,     0.84985,     0.85085,     0.85185,     0.85285,     0.85385,     0.85485,     0.85586,     0.85686,     0.85786,     0.85886,     0.85986,     0.86086,     0.86186,     0.86286,     0.86386,\n",
              "           0.86486,     0.86587,     0.86687,     0.86787,     0.86887,     0.86987,     0.87087,     0.87187,     0.87287,     0.87387,     0.87487,     0.87588,     0.87688,     0.87788,     0.87888,     0.87988,     0.88088,     0.88188,     0.88288,     0.88388,     0.88488,     0.88589,     0.88689,     0.88789,\n",
              "           0.88889,     0.88989,     0.89089,     0.89189,     0.89289,     0.89389,     0.89489,      0.8959,      0.8969,      0.8979,      0.8989,      0.8999,      0.9009,      0.9019,      0.9029,      0.9039,      0.9049,     0.90591,     0.90691,     0.90791,     0.90891,     0.90991,     0.91091,     0.91191,\n",
              "           0.91291,     0.91391,     0.91491,     0.91592,     0.91692,     0.91792,     0.91892,     0.91992,     0.92092,     0.92192,     0.92292,     0.92392,     0.92492,     0.92593,     0.92693,     0.92793,     0.92893,     0.92993,     0.93093,     0.93193,     0.93293,     0.93393,     0.93493,     0.93594,\n",
              "           0.93694,     0.93794,     0.93894,     0.93994,     0.94094,     0.94194,     0.94294,     0.94394,     0.94494,     0.94595,     0.94695,     0.94795,     0.94895,     0.94995,     0.95095,     0.95195,     0.95295,     0.95395,     0.95495,     0.95596,     0.95696,     0.95796,     0.95896,     0.95996,\n",
              "           0.96096,     0.96196,     0.96296,     0.96396,     0.96496,     0.96597,     0.96697,     0.96797,     0.96897,     0.96997,     0.97097,     0.97197,     0.97297,     0.97397,     0.97497,     0.97598,     0.97698,     0.97798,     0.97898,     0.97998,     0.98098,     0.98198,     0.98298,     0.98398,\n",
              "           0.98498,     0.98599,     0.98699,     0.98799,     0.98899,     0.98999,     0.99099,     0.99199,     0.99299,     0.99399,     0.99499,       0.996,       0.997,       0.998,       0.999,           1]), array([[    0.40382,     0.40382,     0.50762,     0.56603,      0.6093,      0.6426,      0.6672,     0.68537,     0.70385,      0.7164,     0.72915,     0.73711,     0.74548,     0.75573,     0.76221,     0.76904,     0.77548,     0.78086,     0.78731,     0.79197,     0.79458,     0.79975,     0.80532,\n",
              "            0.80863,     0.81113,     0.81323,     0.81643,     0.81902,      0.8219,     0.82368,     0.82699,     0.82982,     0.83182,     0.83366,     0.83654,     0.83788,     0.83991,     0.84195,     0.84436,     0.84573,      0.8479,     0.84885,     0.85127,     0.85322,     0.85432,     0.85604,\n",
              "            0.85806,     0.85833,     0.86019,     0.86106,     0.86241,     0.86343,      0.8649,     0.86669,     0.86682,     0.86795,     0.86873,     0.86959,     0.87116,     0.87273,     0.87303,     0.87464,     0.87601,     0.87754,      0.8786,      0.8795,     0.88005,      0.8812,     0.88146,\n",
              "            0.88168,     0.88259,     0.88293,     0.88411,     0.88542,     0.88607,     0.88602,     0.88677,     0.88804,     0.88876,     0.88987,     0.89078,     0.89177,     0.89187,     0.89286,     0.89345,     0.89453,     0.89551,     0.89633,     0.89713,     0.89815,     0.89807,      0.8984,\n",
              "            0.89895,     0.89933,     0.89966,      0.9001,     0.90054,     0.90099,     0.90123,      0.9018,     0.90247,     0.90328,     0.90347,     0.90383,     0.90436,     0.90452,     0.90461,      0.9047,      0.9048,     0.90491,     0.90508,     0.90568,     0.90582,     0.90595,     0.90633,\n",
              "            0.90692,     0.90716,     0.90758,     0.90801,     0.90815,      0.9083,     0.90853,     0.90886,     0.90895,     0.90915,     0.90934,     0.90979,     0.90995,      0.9103,      0.9106,     0.91099,      0.9112,     0.91142,     0.91189,     0.91203,     0.91241,      0.9131,     0.91322,\n",
              "            0.91347,     0.91419,      0.9149,     0.91513,     0.91524,     0.91548,     0.91547,     0.91627,     0.91665,     0.91688,     0.91704,     0.91718,     0.91732,      0.9175,     0.91787,     0.91806,     0.91823,     0.91815,     0.91806,     0.91819,     0.91813,     0.91857,     0.91913,\n",
              "            0.91972,     0.91995,     0.92014,     0.92033,     0.92062,     0.92123,     0.92158,      0.9215,     0.92143,     0.92141,     0.92153,     0.92201,     0.92234,     0.92242,     0.92241,     0.92247,     0.92253,     0.92263,     0.92285,     0.92309,     0.92347,     0.92392,     0.92413,\n",
              "            0.92427,     0.92439,     0.92456,     0.92469,      0.9248,     0.92516,     0.92534,     0.92581,     0.92578,     0.92572,     0.92565,     0.92585,     0.92623,     0.92646,     0.92652,     0.92659,     0.92668,     0.92706,      0.9275,     0.92759,     0.92779,     0.92802,     0.92813,\n",
              "            0.92821,     0.92872,     0.92893,     0.92901,      0.9291,     0.92897,     0.92902,     0.92931,     0.92941,     0.92973,      0.9299,     0.93005,     0.93029,     0.93046,     0.93061,     0.93071,     0.93053,     0.93059,     0.93054,     0.93054,     0.93047,     0.93055,     0.93063,\n",
              "            0.93086,     0.93093,     0.93101,      0.9311,     0.93125,     0.93122,     0.93115,     0.93108,      0.9314,     0.93124,     0.93143,      0.9315,     0.93158,     0.93193,     0.93263,     0.93253,     0.93245,     0.93247,      0.9325,     0.93252,     0.93255,     0.93258,      0.9326,\n",
              "            0.93263,     0.93245,      0.9326,     0.93284,     0.93312,     0.93347,     0.93354,     0.93362,      0.9337,     0.93379,     0.93374,      0.9339,     0.93403,     0.93408,     0.93412,     0.93417,     0.93421,     0.93467,     0.93469,     0.93472,     0.93474,     0.93477,     0.93479,\n",
              "            0.93482,     0.93484,     0.93486,       0.935,     0.93535,     0.93547,     0.93554,      0.9356,     0.93565,      0.9357,      0.9366,     0.93675,     0.93673,      0.9367,     0.93667,     0.93665,     0.93662,      0.9366,     0.93657,     0.93654,     0.93706,     0.93746,     0.93758,\n",
              "            0.93815,      0.9381,     0.93789,     0.93805,     0.93817,     0.93826,     0.93835,     0.93843,     0.93852,     0.93863,     0.93863,     0.93892,     0.93878,     0.93897,     0.93906,     0.93916,     0.93941,     0.93949,     0.93956,      0.9398,     0.94004,      0.9401,     0.94017,\n",
              "            0.94023,     0.94027,     0.94032,     0.94036,      0.9404,     0.94044,     0.94042,     0.94036,     0.94031,     0.94025,     0.94023,     0.94028,     0.94033,     0.94037,     0.94042,      0.9402,     0.94026,     0.94031,     0.94037,     0.94044,     0.94031,     0.94041,     0.94049,\n",
              "             0.9406,     0.94086,     0.94102,     0.94108,     0.94114,      0.9412,     0.94128,     0.94136,     0.94156,     0.94189,     0.94202,      0.9422,     0.94218,     0.94204,     0.94246,     0.94274,      0.9428,     0.94286,     0.94295,     0.94316,     0.94357,     0.94361,     0.94365,\n",
              "            0.94369,     0.94373,     0.94373,      0.9436,     0.94358,     0.94393,     0.94389,     0.94384,      0.9438,     0.94375,     0.94371,     0.94374,     0.94378,     0.94382,     0.94386,      0.9439,     0.94389,      0.9438,     0.94371,     0.94338,      0.9433,     0.94322,     0.94317,\n",
              "            0.94311,     0.94305,     0.94298,     0.94289,     0.94277,      0.9428,     0.94297,     0.94304,     0.94291,     0.94291,     0.94304,     0.94324,     0.94346,     0.94359,      0.9437,     0.94391,     0.94398,     0.94402,     0.94407,     0.94412,     0.94416,     0.94418,     0.94421,\n",
              "            0.94423,     0.94426,     0.94428,     0.94431,     0.94434,     0.94436,     0.94414,     0.94416,     0.94419,     0.94421,     0.94423,     0.94426,     0.94428,      0.9443,     0.94432,     0.94461,     0.94479,     0.94483,     0.94488,     0.94492,     0.94497,      0.9453,     0.94513,\n",
              "            0.94505,     0.94497,     0.94485,     0.94473,     0.94531,     0.94561,     0.94565,      0.9457,     0.94574,     0.94579,     0.94611,     0.94622,     0.94625,     0.94627,     0.94629,     0.94632,     0.94634,     0.94636,     0.94639,     0.94641,     0.94643,     0.94655,     0.94677,\n",
              "            0.94694,     0.94705,     0.94722,     0.94728,     0.94722,     0.94716,      0.9471,     0.94702,     0.94694,     0.94685,     0.94692,     0.94703,     0.94723,     0.94729,     0.94744,     0.94766,      0.9481,     0.94823,     0.94834,     0.94842,     0.94849,     0.94857,     0.94879,\n",
              "             0.9489,     0.94925,     0.94917,     0.94896,     0.94901,     0.94905,      0.9491,     0.94914,       0.949,     0.94922,     0.94935,     0.94929,     0.94923,     0.94916,     0.94915,     0.94919,     0.94924,     0.94928,     0.94933,     0.94928,     0.94916,     0.94917,     0.94929,\n",
              "            0.94969,     0.94993,     0.94985,     0.94977,     0.94956,     0.94959,      0.9497,     0.94991,     0.95013,     0.94995,      0.9497,     0.94978,     0.94989,     0.95011,     0.95056,     0.95079,     0.95052,     0.95063,     0.95076,      0.9507,     0.95062,     0.95053,     0.95039,\n",
              "            0.94971,     0.94982,     0.94984,     0.94962,      0.9495,     0.94938,      0.9493,     0.94922,     0.94927,      0.9492,     0.94931,     0.94948,     0.94946,     0.94927,     0.94915,     0.94883,     0.94879,     0.94876,     0.94872,     0.94868,     0.94865,     0.94861,     0.94841,\n",
              "            0.94831,     0.94824,     0.94818,     0.94812,     0.94771,     0.94751,     0.94747,     0.94745,     0.94752,     0.94744,     0.94735,       0.947,     0.94687,      0.9465,     0.94637,     0.94591,     0.94565,     0.94539,     0.94547,     0.94554,     0.94565,     0.94576,     0.94557,\n",
              "            0.94563,     0.94575,     0.94527,     0.94514,     0.94501,     0.94487,     0.94496,     0.94459,     0.94455,     0.94466,     0.94467,      0.9446,     0.94454,     0.94448,     0.94425,     0.94421,     0.94406,     0.94393,      0.9437,     0.94377,     0.94364,     0.94322,     0.94324,\n",
              "            0.94298,     0.94271,     0.94292,     0.94286,     0.94297,     0.94265,     0.94241,     0.94228,     0.94221,     0.94217,     0.94213,     0.94209,     0.94205,     0.94202,     0.94191,     0.94165,     0.94114,     0.94088,     0.94066,     0.94049,     0.94039,     0.94031,     0.94019,\n",
              "            0.93968,     0.93942,     0.93895,     0.93914,     0.93896,     0.93873,     0.93847,     0.93828,     0.93815,     0.93828,     0.93826,      0.9382,     0.93798,     0.93785,     0.93742,      0.9369,     0.93627,     0.93612,     0.93599,     0.93585,     0.93544,     0.93534,     0.93523,\n",
              "            0.93511,     0.93498,     0.93476,     0.93459,     0.93446,     0.93407,     0.93355,      0.9333,     0.93316,      0.9329,      0.9326,      0.9323,     0.93204,      0.9319,     0.93186,      0.9314,     0.93127,     0.93074,     0.93032,     0.93024,     0.92974,     0.92963,     0.92952,\n",
              "            0.92931,     0.92888,     0.92874,     0.92678,     0.92652,     0.92625,     0.92601,     0.92583,      0.9258,     0.92501,     0.92482,     0.92414,     0.92401,     0.92262,     0.92183,     0.92076,     0.92021,      0.9193,      0.9185,     0.91823,     0.91702,     0.91569,     0.91482,\n",
              "            0.91447,      0.9134,     0.91213,     0.91164,      0.9111,     0.90964,     0.90853,     0.90717,     0.90567,      0.9054,     0.90498,     0.90389,     0.90332,     0.90265,     0.90237,     0.89973,     0.89823,     0.89674,     0.89503,     0.89489,     0.89195,     0.88833,     0.88814,\n",
              "            0.88674,     0.88617,     0.88121,     0.87766,     0.87706,     0.87331,     0.87121,     0.87106,     0.86662,      0.8622,     0.86177,     0.85903,     0.85113,     0.84987,     0.84499,     0.83798,     0.83613,     0.83046,     0.82726,     0.82135,     0.81806,     0.81418,     0.80709,\n",
              "            0.79482,     0.79168,      0.7843,     0.77361,     0.76377,     0.76096,     0.75377,     0.74772,     0.73565,     0.72937,     0.72222,     0.70964,     0.69962,     0.69293,     0.67938,     0.66845,      0.6635,     0.65222,     0.64248,     0.63737,     0.62201,      0.6172,     0.60821,\n",
              "            0.60312,     0.59281,     0.58806,     0.57869,     0.57692,     0.56961,     0.56719,     0.56374,     0.55831,      0.5563,     0.54924,     0.54862,     0.54658,     0.54247,     0.54035,       0.537,     0.53446,     0.53391,     0.53049,       0.527,     0.52452,     0.51852,     0.51727,\n",
              "            0.51246,     0.51021,     0.50634,     0.50511,     0.50119,     0.49947,     0.49601,     0.49482,     0.49131,     0.48962,     0.48397,     0.48229,     0.47814,     0.47648,     0.47227,     0.47035,     0.46795,     0.46461,      0.4627,     0.46054,     0.45779,     0.45342,     0.45155,\n",
              "            0.44735,     0.44411,     0.44178,      0.4386,     0.43822,     0.43615,     0.43356,     0.43317,      0.4316,     0.42954,     0.42874,     0.42754,     0.42602,     0.42385,     0.42185,     0.42108,     0.42066,     0.41726,      0.4167,     0.41641,     0.41599,     0.41367,     0.41204,\n",
              "            0.41132,      0.4092,     0.40891,     0.40685,     0.40646,      0.4051,      0.4047,      0.4007,      0.3983,     0.39671,     0.39536,     0.39298,     0.38854,     0.38227,     0.37865,     0.37502,     0.37077,     0.36659,     0.36526,     0.35728,      0.3517,     0.34546,     0.33413,\n",
              "            0.32264,     0.30775,     0.28992,      0.2724,     0.25521,     0.24401,     0.22768,     0.20958,     0.19557,     0.16077,     0.14676,     0.13254,     0.11081,    0.097677,    0.088529,    0.080131,    0.075884,    0.069074,    0.063924,     0.05898,    0.057846,    0.051772,    0.050976,\n",
              "           0.050277,    0.048179,      0.0476,    0.047155,    0.045418,    0.042347,    0.039704,    0.035751,     0.03515,    0.030322,     0.02906,    0.028153,    0.027749,    0.027609,    0.027469,    0.027329,     0.02719,     0.02705,    0.026668,    0.025759,    0.025181,    0.025183,    0.025185,\n",
              "           0.025187,    0.025189,    0.025191,     0.02504,    0.024888,    0.024736,    0.024584,    0.024432,    0.024265,    0.024004,    0.023744,    0.023483,    0.023364,    0.023296,    0.023228,    0.023161,    0.023093,    0.023026,    0.022958,     0.02289,    0.022823,    0.022755,    0.022688,\n",
              "            0.02262,    0.022552,    0.022459,    0.022345,     0.02223,    0.022116,    0.022002,    0.021888,    0.021774,    0.021659,    0.021287,    0.020829,    0.020606,    0.020439,    0.020273,    0.020107,     0.01994,     0.01978,    0.019627,    0.019475,    0.019322,    0.019169,    0.019017,\n",
              "           0.016987,    0.016081,    0.015775,    0.015468,    0.015311,    0.015223,    0.015136,    0.015048,    0.014961,    0.014873,    0.014785,    0.014698,     0.01461,    0.014522,    0.014406,    0.014252,    0.014099,    0.013946,    0.013792,    0.013638,    0.012646,    0.012338,    0.012031,\n",
              "           0.011713,    0.011343,    0.010974,    0.010778,    0.010646,    0.010514,    0.010382,     0.01025,    0.010118,   0.0099858,   0.0094167,   0.0082583,   0.0069767,   0.0063582,   0.0060928,   0.0058275,   0.0055622,   0.0043642,   0.0040541,    0.003744,   0.0024123,   0.0015661,    0.001193,\n",
              "                  0,           0,           0,           0,           0,           0,           0,           0,           0,           0,           0]]), 'Confidence', 'F1'], [array([          0,    0.001001,    0.002002,    0.003003,    0.004004,    0.005005,    0.006006,    0.007007,    0.008008,    0.009009,     0.01001,    0.011011,    0.012012,    0.013013,    0.014014,    0.015015,    0.016016,    0.017017,    0.018018,    0.019019,     0.02002,    0.021021,    0.022022,    0.023023,\n",
              "          0.024024,    0.025025,    0.026026,    0.027027,    0.028028,    0.029029,     0.03003,    0.031031,    0.032032,    0.033033,    0.034034,    0.035035,    0.036036,    0.037037,    0.038038,    0.039039,     0.04004,    0.041041,    0.042042,    0.043043,    0.044044,    0.045045,    0.046046,    0.047047,\n",
              "          0.048048,    0.049049,     0.05005,    0.051051,    0.052052,    0.053053,    0.054054,    0.055055,    0.056056,    0.057057,    0.058058,    0.059059,     0.06006,    0.061061,    0.062062,    0.063063,    0.064064,    0.065065,    0.066066,    0.067067,    0.068068,    0.069069,     0.07007,    0.071071,\n",
              "          0.072072,    0.073073,    0.074074,    0.075075,    0.076076,    0.077077,    0.078078,    0.079079,     0.08008,    0.081081,    0.082082,    0.083083,    0.084084,    0.085085,    0.086086,    0.087087,    0.088088,    0.089089,     0.09009,    0.091091,    0.092092,    0.093093,    0.094094,    0.095095,\n",
              "          0.096096,    0.097097,    0.098098,    0.099099,      0.1001,      0.1011,      0.1021,      0.1031,      0.1041,     0.10511,     0.10611,     0.10711,     0.10811,     0.10911,     0.11011,     0.11111,     0.11211,     0.11311,     0.11411,     0.11512,     0.11612,     0.11712,     0.11812,     0.11912,\n",
              "           0.12012,     0.12112,     0.12212,     0.12312,     0.12412,     0.12513,     0.12613,     0.12713,     0.12813,     0.12913,     0.13013,     0.13113,     0.13213,     0.13313,     0.13413,     0.13514,     0.13614,     0.13714,     0.13814,     0.13914,     0.14014,     0.14114,     0.14214,     0.14314,\n",
              "           0.14414,     0.14515,     0.14615,     0.14715,     0.14815,     0.14915,     0.15015,     0.15115,     0.15215,     0.15315,     0.15415,     0.15516,     0.15616,     0.15716,     0.15816,     0.15916,     0.16016,     0.16116,     0.16216,     0.16316,     0.16416,     0.16517,     0.16617,     0.16717,\n",
              "           0.16817,     0.16917,     0.17017,     0.17117,     0.17217,     0.17317,     0.17417,     0.17518,     0.17618,     0.17718,     0.17818,     0.17918,     0.18018,     0.18118,     0.18218,     0.18318,     0.18418,     0.18519,     0.18619,     0.18719,     0.18819,     0.18919,     0.19019,     0.19119,\n",
              "           0.19219,     0.19319,     0.19419,      0.1952,      0.1962,      0.1972,      0.1982,      0.1992,      0.2002,      0.2012,      0.2022,      0.2032,      0.2042,     0.20521,     0.20621,     0.20721,     0.20821,     0.20921,     0.21021,     0.21121,     0.21221,     0.21321,     0.21421,     0.21522,\n",
              "           0.21622,     0.21722,     0.21822,     0.21922,     0.22022,     0.22122,     0.22222,     0.22322,     0.22422,     0.22523,     0.22623,     0.22723,     0.22823,     0.22923,     0.23023,     0.23123,     0.23223,     0.23323,     0.23423,     0.23524,     0.23624,     0.23724,     0.23824,     0.23924,\n",
              "           0.24024,     0.24124,     0.24224,     0.24324,     0.24424,     0.24525,     0.24625,     0.24725,     0.24825,     0.24925,     0.25025,     0.25125,     0.25225,     0.25325,     0.25425,     0.25526,     0.25626,     0.25726,     0.25826,     0.25926,     0.26026,     0.26126,     0.26226,     0.26326,\n",
              "           0.26426,     0.26527,     0.26627,     0.26727,     0.26827,     0.26927,     0.27027,     0.27127,     0.27227,     0.27327,     0.27427,     0.27528,     0.27628,     0.27728,     0.27828,     0.27928,     0.28028,     0.28128,     0.28228,     0.28328,     0.28428,     0.28529,     0.28629,     0.28729,\n",
              "           0.28829,     0.28929,     0.29029,     0.29129,     0.29229,     0.29329,     0.29429,      0.2953,      0.2963,      0.2973,      0.2983,      0.2993,      0.3003,      0.3013,      0.3023,      0.3033,      0.3043,     0.30531,     0.30631,     0.30731,     0.30831,     0.30931,     0.31031,     0.31131,\n",
              "           0.31231,     0.31331,     0.31431,     0.31532,     0.31632,     0.31732,     0.31832,     0.31932,     0.32032,     0.32132,     0.32232,     0.32332,     0.32432,     0.32533,     0.32633,     0.32733,     0.32833,     0.32933,     0.33033,     0.33133,     0.33233,     0.33333,     0.33433,     0.33534,\n",
              "           0.33634,     0.33734,     0.33834,     0.33934,     0.34034,     0.34134,     0.34234,     0.34334,     0.34434,     0.34535,     0.34635,     0.34735,     0.34835,     0.34935,     0.35035,     0.35135,     0.35235,     0.35335,     0.35435,     0.35536,     0.35636,     0.35736,     0.35836,     0.35936,\n",
              "           0.36036,     0.36136,     0.36236,     0.36336,     0.36436,     0.36537,     0.36637,     0.36737,     0.36837,     0.36937,     0.37037,     0.37137,     0.37237,     0.37337,     0.37437,     0.37538,     0.37638,     0.37738,     0.37838,     0.37938,     0.38038,     0.38138,     0.38238,     0.38338,\n",
              "           0.38438,     0.38539,     0.38639,     0.38739,     0.38839,     0.38939,     0.39039,     0.39139,     0.39239,     0.39339,     0.39439,      0.3954,      0.3964,      0.3974,      0.3984,      0.3994,      0.4004,      0.4014,      0.4024,      0.4034,      0.4044,     0.40541,     0.40641,     0.40741,\n",
              "           0.40841,     0.40941,     0.41041,     0.41141,     0.41241,     0.41341,     0.41441,     0.41542,     0.41642,     0.41742,     0.41842,     0.41942,     0.42042,     0.42142,     0.42242,     0.42342,     0.42442,     0.42543,     0.42643,     0.42743,     0.42843,     0.42943,     0.43043,     0.43143,\n",
              "           0.43243,     0.43343,     0.43443,     0.43544,     0.43644,     0.43744,     0.43844,     0.43944,     0.44044,     0.44144,     0.44244,     0.44344,     0.44444,     0.44545,     0.44645,     0.44745,     0.44845,     0.44945,     0.45045,     0.45145,     0.45245,     0.45345,     0.45445,     0.45546,\n",
              "           0.45646,     0.45746,     0.45846,     0.45946,     0.46046,     0.46146,     0.46246,     0.46346,     0.46446,     0.46547,     0.46647,     0.46747,     0.46847,     0.46947,     0.47047,     0.47147,     0.47247,     0.47347,     0.47447,     0.47548,     0.47648,     0.47748,     0.47848,     0.47948,\n",
              "           0.48048,     0.48148,     0.48248,     0.48348,     0.48448,     0.48549,     0.48649,     0.48749,     0.48849,     0.48949,     0.49049,     0.49149,     0.49249,     0.49349,     0.49449,      0.4955,      0.4965,      0.4975,      0.4985,      0.4995,      0.5005,      0.5015,      0.5025,      0.5035,\n",
              "            0.5045,     0.50551,     0.50651,     0.50751,     0.50851,     0.50951,     0.51051,     0.51151,     0.51251,     0.51351,     0.51451,     0.51552,     0.51652,     0.51752,     0.51852,     0.51952,     0.52052,     0.52152,     0.52252,     0.52352,     0.52452,     0.52553,     0.52653,     0.52753,\n",
              "           0.52853,     0.52953,     0.53053,     0.53153,     0.53253,     0.53353,     0.53453,     0.53554,     0.53654,     0.53754,     0.53854,     0.53954,     0.54054,     0.54154,     0.54254,     0.54354,     0.54454,     0.54555,     0.54655,     0.54755,     0.54855,     0.54955,     0.55055,     0.55155,\n",
              "           0.55255,     0.55355,     0.55455,     0.55556,     0.55656,     0.55756,     0.55856,     0.55956,     0.56056,     0.56156,     0.56256,     0.56356,     0.56456,     0.56557,     0.56657,     0.56757,     0.56857,     0.56957,     0.57057,     0.57157,     0.57257,     0.57357,     0.57457,     0.57558,\n",
              "           0.57658,     0.57758,     0.57858,     0.57958,     0.58058,     0.58158,     0.58258,     0.58358,     0.58458,     0.58559,     0.58659,     0.58759,     0.58859,     0.58959,     0.59059,     0.59159,     0.59259,     0.59359,     0.59459,      0.5956,      0.5966,      0.5976,      0.5986,      0.5996,\n",
              "            0.6006,      0.6016,      0.6026,      0.6036,      0.6046,     0.60561,     0.60661,     0.60761,     0.60861,     0.60961,     0.61061,     0.61161,     0.61261,     0.61361,     0.61461,     0.61562,     0.61662,     0.61762,     0.61862,     0.61962,     0.62062,     0.62162,     0.62262,     0.62362,\n",
              "           0.62462,     0.62563,     0.62663,     0.62763,     0.62863,     0.62963,     0.63063,     0.63163,     0.63263,     0.63363,     0.63463,     0.63564,     0.63664,     0.63764,     0.63864,     0.63964,     0.64064,     0.64164,     0.64264,     0.64364,     0.64464,     0.64565,     0.64665,     0.64765,\n",
              "           0.64865,     0.64965,     0.65065,     0.65165,     0.65265,     0.65365,     0.65465,     0.65566,     0.65666,     0.65766,     0.65866,     0.65966,     0.66066,     0.66166,     0.66266,     0.66366,     0.66466,     0.66567,     0.66667,     0.66767,     0.66867,     0.66967,     0.67067,     0.67167,\n",
              "           0.67267,     0.67367,     0.67467,     0.67568,     0.67668,     0.67768,     0.67868,     0.67968,     0.68068,     0.68168,     0.68268,     0.68368,     0.68468,     0.68569,     0.68669,     0.68769,     0.68869,     0.68969,     0.69069,     0.69169,     0.69269,     0.69369,     0.69469,      0.6957,\n",
              "            0.6967,      0.6977,      0.6987,      0.6997,      0.7007,      0.7017,      0.7027,      0.7037,      0.7047,     0.70571,     0.70671,     0.70771,     0.70871,     0.70971,     0.71071,     0.71171,     0.71271,     0.71371,     0.71471,     0.71572,     0.71672,     0.71772,     0.71872,     0.71972,\n",
              "           0.72072,     0.72172,     0.72272,     0.72372,     0.72472,     0.72573,     0.72673,     0.72773,     0.72873,     0.72973,     0.73073,     0.73173,     0.73273,     0.73373,     0.73473,     0.73574,     0.73674,     0.73774,     0.73874,     0.73974,     0.74074,     0.74174,     0.74274,     0.74374,\n",
              "           0.74474,     0.74575,     0.74675,     0.74775,     0.74875,     0.74975,     0.75075,     0.75175,     0.75275,     0.75375,     0.75475,     0.75576,     0.75676,     0.75776,     0.75876,     0.75976,     0.76076,     0.76176,     0.76276,     0.76376,     0.76476,     0.76577,     0.76677,     0.76777,\n",
              "           0.76877,     0.76977,     0.77077,     0.77177,     0.77277,     0.77377,     0.77477,     0.77578,     0.77678,     0.77778,     0.77878,     0.77978,     0.78078,     0.78178,     0.78278,     0.78378,     0.78478,     0.78579,     0.78679,     0.78779,     0.78879,     0.78979,     0.79079,     0.79179,\n",
              "           0.79279,     0.79379,     0.79479,      0.7958,      0.7968,      0.7978,      0.7988,      0.7998,      0.8008,      0.8018,      0.8028,      0.8038,      0.8048,     0.80581,     0.80681,     0.80781,     0.80881,     0.80981,     0.81081,     0.81181,     0.81281,     0.81381,     0.81481,     0.81582,\n",
              "           0.81682,     0.81782,     0.81882,     0.81982,     0.82082,     0.82182,     0.82282,     0.82382,     0.82482,     0.82583,     0.82683,     0.82783,     0.82883,     0.82983,     0.83083,     0.83183,     0.83283,     0.83383,     0.83483,     0.83584,     0.83684,     0.83784,     0.83884,     0.83984,\n",
              "           0.84084,     0.84184,     0.84284,     0.84384,     0.84484,     0.84585,     0.84685,     0.84785,     0.84885,     0.84985,     0.85085,     0.85185,     0.85285,     0.85385,     0.85485,     0.85586,     0.85686,     0.85786,     0.85886,     0.85986,     0.86086,     0.86186,     0.86286,     0.86386,\n",
              "           0.86486,     0.86587,     0.86687,     0.86787,     0.86887,     0.86987,     0.87087,     0.87187,     0.87287,     0.87387,     0.87487,     0.87588,     0.87688,     0.87788,     0.87888,     0.87988,     0.88088,     0.88188,     0.88288,     0.88388,     0.88488,     0.88589,     0.88689,     0.88789,\n",
              "           0.88889,     0.88989,     0.89089,     0.89189,     0.89289,     0.89389,     0.89489,      0.8959,      0.8969,      0.8979,      0.8989,      0.8999,      0.9009,      0.9019,      0.9029,      0.9039,      0.9049,     0.90591,     0.90691,     0.90791,     0.90891,     0.90991,     0.91091,     0.91191,\n",
              "           0.91291,     0.91391,     0.91491,     0.91592,     0.91692,     0.91792,     0.91892,     0.91992,     0.92092,     0.92192,     0.92292,     0.92392,     0.92492,     0.92593,     0.92693,     0.92793,     0.92893,     0.92993,     0.93093,     0.93193,     0.93293,     0.93393,     0.93493,     0.93594,\n",
              "           0.93694,     0.93794,     0.93894,     0.93994,     0.94094,     0.94194,     0.94294,     0.94394,     0.94494,     0.94595,     0.94695,     0.94795,     0.94895,     0.94995,     0.95095,     0.95195,     0.95295,     0.95395,     0.95495,     0.95596,     0.95696,     0.95796,     0.95896,     0.95996,\n",
              "           0.96096,     0.96196,     0.96296,     0.96396,     0.96496,     0.96597,     0.96697,     0.96797,     0.96897,     0.96997,     0.97097,     0.97197,     0.97297,     0.97397,     0.97497,     0.97598,     0.97698,     0.97798,     0.97898,     0.97998,     0.98098,     0.98198,     0.98298,     0.98398,\n",
              "           0.98498,     0.98599,     0.98699,     0.98799,     0.98899,     0.98999,     0.99099,     0.99199,     0.99299,     0.99399,     0.99499,       0.996,       0.997,       0.998,       0.999,           1]), array([[    0.25484,     0.25484,     0.34365,     0.39954,     0.44425,      0.4809,     0.50924,     0.53073,     0.55352,      0.5692,     0.58564,     0.59615,     0.60718,     0.62108,     0.63008,     0.63966,     0.64904,     0.65703,     0.66623,     0.67293,     0.67671,     0.68423,     0.69243,\n",
              "            0.69734,     0.70107,     0.70421,     0.70902,     0.71294,     0.71732,     0.72003,     0.72537,     0.72973,     0.73282,      0.7357,     0.74019,     0.74229,     0.74548,     0.74897,     0.75308,     0.75527,     0.75873,     0.76082,     0.76472,     0.76787,     0.76967,     0.77246,\n",
              "            0.77577,     0.77648,     0.77953,     0.78097,     0.78319,     0.78489,     0.78732,     0.79028,     0.79081,      0.7927,      0.7943,     0.79575,     0.79837,     0.80101,     0.80184,     0.80457,     0.80688,     0.80949,     0.81128,     0.81283,     0.81376,     0.81573,     0.81619,\n",
              "            0.81656,     0.81812,     0.81872,     0.82108,     0.82334,     0.82481,     0.82505,     0.82635,     0.82855,     0.82982,     0.83175,     0.83334,     0.83507,     0.83559,     0.83734,     0.83838,     0.84028,     0.84202,     0.84347,     0.84489,     0.84669,     0.84728,     0.84786,\n",
              "            0.84883,     0.84951,     0.85033,     0.85125,      0.8524,     0.85321,     0.85401,     0.85503,     0.85624,      0.8577,      0.8584,     0.85906,     0.86001,     0.86029,     0.86046,     0.86062,     0.86081,     0.86101,     0.86132,      0.8624,     0.86266,      0.8629,     0.86358,\n",
              "            0.86465,     0.86547,     0.86622,     0.86701,     0.86726,     0.86754,     0.86796,     0.86856,     0.86873,      0.8691,     0.86945,     0.87026,     0.87056,     0.87119,     0.87175,     0.87246,     0.87324,     0.87364,      0.8745,     0.87475,     0.87545,     0.87674,     0.87695,\n",
              "            0.87742,     0.87874,     0.88005,     0.88048,     0.88068,     0.88113,     0.88149,     0.88298,     0.88372,     0.88451,     0.88481,     0.88507,     0.88533,     0.88566,     0.88636,      0.8867,     0.88705,     0.88703,     0.88701,     0.88737,     0.88764,     0.88845,     0.88951,\n",
              "             0.8906,     0.89104,      0.8914,     0.89175,     0.89231,     0.89345,     0.89417,     0.89415,     0.89414,     0.89418,     0.89441,     0.89531,     0.89594,      0.8964,     0.89647,     0.89658,      0.8967,     0.89689,      0.8973,     0.89776,     0.89848,     0.89933,     0.89974,\n",
              "                0.9,     0.90023,     0.90054,     0.90079,       0.901,     0.90169,     0.90204,     0.90293,     0.90298,     0.90297,     0.90295,     0.90342,     0.90414,     0.90457,     0.90469,     0.90481,     0.90499,     0.90571,     0.90656,     0.90674,     0.90712,     0.90755,     0.90776,\n",
              "            0.90792,      0.9089,      0.9093,     0.90946,     0.90961,     0.90962,      0.9099,     0.91045,     0.91064,     0.91125,     0.91158,     0.91187,     0.91232,     0.91265,     0.91295,     0.91319,     0.91316,     0.91354,     0.91366,      0.9139,     0.91395,      0.9141,     0.91425,\n",
              "            0.91469,     0.91483,     0.91498,     0.91515,     0.91545,     0.91548,     0.91547,     0.91546,     0.91625,     0.91623,     0.91665,     0.91679,     0.91694,     0.91762,     0.91898,     0.91904,     0.91905,      0.9191,     0.91915,      0.9192,     0.91925,      0.9193,     0.91935,\n",
              "             0.9194,     0.91949,     0.91977,     0.92067,     0.92123,     0.92191,     0.92205,     0.92219,     0.92235,     0.92252,     0.92262,     0.92317,     0.92343,     0.92352,     0.92361,      0.9237,     0.92379,     0.92468,     0.92473,     0.92477,     0.92482,     0.92487,     0.92492,\n",
              "            0.92497,     0.92502,     0.92506,     0.92534,     0.92601,     0.92625,     0.92639,      0.9265,      0.9266,     0.92671,     0.92847,     0.92879,     0.92879,     0.92879,     0.92878,     0.92878,     0.92878,     0.92877,     0.92877,     0.92877,     0.92982,     0.93059,     0.93084,\n",
              "            0.93196,     0.93209,     0.93234,     0.93266,      0.9329,     0.93307,     0.93324,     0.93341,     0.93359,     0.93381,     0.93425,     0.93495,     0.93493,     0.93536,     0.93556,     0.93575,     0.93625,      0.9364,     0.93654,     0.93701,      0.9375,     0.93762,     0.93775,\n",
              "            0.93787,     0.93796,     0.93805,     0.93813,     0.93821,      0.9383,     0.93832,     0.93831,      0.9383,      0.9383,     0.93832,     0.93842,     0.93852,     0.93861,     0.93871,     0.93871,     0.93883,     0.93895,     0.93906,     0.93953,     0.93984,     0.94005,     0.94021,\n",
              "            0.94042,     0.94095,     0.94126,     0.94138,     0.94151,     0.94163,     0.94179,     0.94195,     0.94235,     0.94301,     0.94326,     0.94364,     0.94377,     0.94376,     0.94462,     0.94517,     0.94529,     0.94541,      0.9456,     0.94602,     0.94684,     0.94692,       0.947,\n",
              "            0.94708,     0.94716,     0.94722,     0.94721,     0.94733,     0.94807,     0.94806,     0.94806,     0.94806,     0.94805,     0.94805,     0.94812,      0.9482,     0.94828,     0.94835,     0.94843,     0.94848,     0.94847,     0.94846,     0.94843,     0.94842,     0.94841,     0.94882,\n",
              "            0.94882,     0.94881,     0.94881,      0.9488,     0.94895,     0.94921,     0.94982,     0.95006,     0.95005,     0.95017,     0.95043,     0.95084,     0.95129,     0.95156,     0.95178,     0.95221,     0.95234,     0.95243,     0.95253,     0.95262,      0.9527,     0.95276,     0.95281,\n",
              "            0.95286,     0.95291,     0.95296,     0.95302,     0.95307,     0.95312,     0.95315,     0.95319,     0.95324,     0.95328,     0.95333,     0.95338,     0.95342,     0.95347,     0.95352,      0.9541,     0.95446,     0.95455,     0.95464,     0.95474,     0.95483,     0.95576,     0.95575,\n",
              "            0.95574,     0.95573,     0.95572,     0.95571,     0.95695,     0.95757,     0.95766,     0.95775,     0.95784,     0.95794,      0.9586,     0.95883,     0.95889,     0.95893,     0.95898,     0.95903,     0.95907,     0.95912,     0.95917,     0.95922,     0.95926,      0.9595,     0.95996,\n",
              "             0.9603,     0.96053,     0.96089,     0.96108,     0.96108,     0.96108,     0.96107,     0.96107,     0.96106,     0.96105,     0.96122,     0.96145,     0.96187,     0.96239,     0.96278,     0.96324,     0.96416,     0.96441,     0.96465,     0.96481,     0.96496,     0.96513,     0.96558,\n",
              "            0.96581,     0.96653,     0.96692,     0.96692,     0.96701,     0.96711,      0.9672,     0.96729,     0.96748,     0.96795,     0.96826,     0.96826,     0.96825,     0.96825,     0.96829,     0.96838,     0.96847,     0.96857,     0.96866,      0.9687,     0.96869,     0.96883,     0.96907,\n",
              "            0.96992,     0.97053,     0.97052,     0.97052,     0.97051,     0.97069,     0.97092,     0.97135,     0.97183,     0.97188,     0.97187,     0.97208,     0.97232,     0.97279,     0.97373,     0.97421,     0.97464,     0.97488,     0.97515,     0.97555,     0.97555,     0.97554,     0.97599,\n",
              "            0.97648,     0.97672,     0.97689,     0.97688,     0.97687,     0.97687,     0.97686,     0.97686,     0.97706,     0.97743,     0.97767,     0.97803,     0.97826,     0.97825,     0.97824,     0.97823,     0.97823,     0.97823,     0.97822,     0.97822,     0.97822,     0.97822,     0.97821,\n",
              "            0.97821,      0.9782,      0.9782,      0.9782,     0.97818,     0.97817,     0.97839,     0.97886,      0.9791,      0.9791,      0.9791,     0.97908,     0.97908,     0.97906,     0.97906,     0.97904,     0.97903,     0.97913,      0.9793,     0.97946,     0.97969,     0.97993,     0.97996,\n",
              "            0.98017,     0.98042,     0.98042,     0.98042,     0.98041,     0.98065,     0.98088,     0.98087,     0.98101,     0.98125,     0.98134,     0.98134,     0.98134,     0.98134,      0.9818,     0.98228,     0.98227,     0.98227,     0.98226,     0.98274,     0.98273,     0.98292,      0.9832,\n",
              "            0.98319,     0.98342,     0.98415,     0.98427,     0.98452,      0.9849,     0.98509,     0.98509,     0.98509,     0.98509,     0.98509,     0.98509,     0.98508,     0.98508,     0.98508,     0.98507,     0.98506,     0.98505,     0.98504,     0.98504,     0.98504,     0.98503,     0.98551,\n",
              "             0.9855,     0.98549,     0.98552,     0.98597,     0.98597,     0.98596,     0.98595,     0.98644,     0.98643,     0.98681,     0.98731,     0.98791,      0.9879,      0.9879,     0.98789,     0.98788,     0.98786,     0.98786,     0.98785,      0.9881,     0.98834,     0.98833,     0.98833,\n",
              "            0.98833,     0.98833,     0.98832,     0.98832,     0.98831,      0.9888,     0.98879,     0.98928,     0.98928,     0.98928,     0.98927,     0.98977,     0.98976,     0.99007,     0.99026,     0.99025,     0.99025,     0.99125,     0.99229,     0.99276,     0.99276,     0.99276,     0.99275,\n",
              "            0.99275,     0.99274,     0.99274,     0.99323,     0.99322,     0.99322,     0.99322,     0.99322,     0.99373,     0.99372,     0.99372,     0.99371,     0.99371,     0.99369,     0.99368,     0.99367,     0.99366,     0.99365,     0.99364,     0.99364,     0.99362,      0.9936,     0.99359,\n",
              "            0.99359,     0.99357,     0.99356,     0.99355,     0.99354,     0.99352,     0.99351,     0.99349,     0.99347,     0.99347,     0.99346,     0.99345,     0.99344,     0.99343,     0.99343,     0.99456,     0.99502,     0.99555,     0.99609,     0.99609,     0.99662,      0.9966,      0.9966,\n",
              "            0.99659,     0.99659,     0.99655,     0.99653,     0.99652,      0.9965,     0.99648,     0.99648,     0.99645,     0.99642,     0.99641,     0.99699,     0.99694,     0.99693,     0.99733,     0.99748,     0.99747,     0.99744,     0.99743,     0.99805,     0.99803,     0.99802,     0.99799,\n",
              "            0.99793,     0.99792,     0.99789,     0.99784,      0.9978,     0.99778,     0.99775,     0.99772,     0.99766,     0.99763,     0.99759,     0.99752,     0.99747,     0.99743,     0.99735,     0.99729,     0.99726,     0.99719,     0.99712,     0.99709,     0.99699,     0.99695,     0.99689,\n",
              "            0.99685,     0.99677,     0.99673,     0.99666,     0.99685,     0.99772,     0.99771,     0.99769,     0.99765,     0.99764,      0.9976,      0.9976,     0.99759,     0.99756,     0.99755,     0.99753,     0.99751,     0.99751,     0.99748,     0.99746,     0.99745,     0.99741,      0.9974,\n",
              "            0.99736,     0.99735,     0.99732,     0.99731,     0.99729,     0.99727,     0.99725,     0.99724,     0.99721,      0.9972,     0.99716,     0.99714,     0.99711,      0.9971,     0.99706,     0.99705,     0.99703,      0.9985,     0.99849,     0.99848,     0.99847,     0.99845,     0.99844,\n",
              "            0.99842,     0.99841,      0.9984,     0.99838,     0.99838,     0.99837,     0.99836,     0.99836,     0.99835,     0.99834,     0.99833,     0.99833,     0.99832,     0.99831,      0.9983,      0.9983,     0.99829,     0.99828,     0.99827,     0.99827,     0.99827,     0.99826,     0.99825,\n",
              "            0.99824,     0.99823,     0.99823,     0.99822,     0.99822,     0.99821,     0.99821,     0.99819,     0.99817,     0.99816,     0.99816,     0.99814,     0.99811,     0.99808,     0.99805,     0.99803,       0.998,     0.99798,     0.99797,     0.99791,     0.99787,     0.99782,     0.99773,\n",
              "            0.99764,      0.9975,     0.99732,     0.99712,      0.9969,     0.99673,     0.99647,     0.99612,     0.99582,     0.99482,     0.99428,     0.99362,      0.9923,     0.99121,     0.99026,     0.98921,     0.98858,     0.98743,      0.9864,     0.98523,     0.98494,     0.98315,     0.98289,\n",
              "            0.98265,     0.98189,     0.98166,     0.98149,     0.98078,     0.97938,     0.97801,     0.97559,     0.97517,     0.97127,     0.97003,     0.96908,     0.96865,     0.96849,     0.96833,     0.96817,     0.96801,     0.96785,      0.9674,     0.96627,     0.96785,     0.97428,      0.9807,\n",
              "            0.98713,     0.99356,     0.99998,           1,           1,           1,           1,           1,           1,           1,           1,           1,           1,           1,           1,           1,           1,           1,           1,           1,           1,           1,           1,\n",
              "                  1,           1,           1,           1,           1,           1,           1,           1,           1,           1,           1,           1,           1,           1,           1,           1,           1,           1,           1,           1,           1,           1,           1,\n",
              "                  1,           1,           1,           1,           1,           1,           1,           1,           1,           1,           1,           1,           1,           1,           1,           1,           1,           1,           1,           1,           1,           1,           1,\n",
              "                  1,           1,           1,           1,           1,           1,           1,           1,           1,           1,           1,           1,           1,           1,           1,           1,           1,           1,           1,           1,           1,           1,           1,\n",
              "                  1,           1,           1,           1,           1,           1,           1,           1,           1,           1,           1]]), 'Confidence', 'Precision'], [array([          0,    0.001001,    0.002002,    0.003003,    0.004004,    0.005005,    0.006006,    0.007007,    0.008008,    0.009009,     0.01001,    0.011011,    0.012012,    0.013013,    0.014014,    0.015015,    0.016016,    0.017017,    0.018018,    0.019019,     0.02002,    0.021021,    0.022022,    0.023023,\n",
              "          0.024024,    0.025025,    0.026026,    0.027027,    0.028028,    0.029029,     0.03003,    0.031031,    0.032032,    0.033033,    0.034034,    0.035035,    0.036036,    0.037037,    0.038038,    0.039039,     0.04004,    0.041041,    0.042042,    0.043043,    0.044044,    0.045045,    0.046046,    0.047047,\n",
              "          0.048048,    0.049049,     0.05005,    0.051051,    0.052052,    0.053053,    0.054054,    0.055055,    0.056056,    0.057057,    0.058058,    0.059059,     0.06006,    0.061061,    0.062062,    0.063063,    0.064064,    0.065065,    0.066066,    0.067067,    0.068068,    0.069069,     0.07007,    0.071071,\n",
              "          0.072072,    0.073073,    0.074074,    0.075075,    0.076076,    0.077077,    0.078078,    0.079079,     0.08008,    0.081081,    0.082082,    0.083083,    0.084084,    0.085085,    0.086086,    0.087087,    0.088088,    0.089089,     0.09009,    0.091091,    0.092092,    0.093093,    0.094094,    0.095095,\n",
              "          0.096096,    0.097097,    0.098098,    0.099099,      0.1001,      0.1011,      0.1021,      0.1031,      0.1041,     0.10511,     0.10611,     0.10711,     0.10811,     0.10911,     0.11011,     0.11111,     0.11211,     0.11311,     0.11411,     0.11512,     0.11612,     0.11712,     0.11812,     0.11912,\n",
              "           0.12012,     0.12112,     0.12212,     0.12312,     0.12412,     0.12513,     0.12613,     0.12713,     0.12813,     0.12913,     0.13013,     0.13113,     0.13213,     0.13313,     0.13413,     0.13514,     0.13614,     0.13714,     0.13814,     0.13914,     0.14014,     0.14114,     0.14214,     0.14314,\n",
              "           0.14414,     0.14515,     0.14615,     0.14715,     0.14815,     0.14915,     0.15015,     0.15115,     0.15215,     0.15315,     0.15415,     0.15516,     0.15616,     0.15716,     0.15816,     0.15916,     0.16016,     0.16116,     0.16216,     0.16316,     0.16416,     0.16517,     0.16617,     0.16717,\n",
              "           0.16817,     0.16917,     0.17017,     0.17117,     0.17217,     0.17317,     0.17417,     0.17518,     0.17618,     0.17718,     0.17818,     0.17918,     0.18018,     0.18118,     0.18218,     0.18318,     0.18418,     0.18519,     0.18619,     0.18719,     0.18819,     0.18919,     0.19019,     0.19119,\n",
              "           0.19219,     0.19319,     0.19419,      0.1952,      0.1962,      0.1972,      0.1982,      0.1992,      0.2002,      0.2012,      0.2022,      0.2032,      0.2042,     0.20521,     0.20621,     0.20721,     0.20821,     0.20921,     0.21021,     0.21121,     0.21221,     0.21321,     0.21421,     0.21522,\n",
              "           0.21622,     0.21722,     0.21822,     0.21922,     0.22022,     0.22122,     0.22222,     0.22322,     0.22422,     0.22523,     0.22623,     0.22723,     0.22823,     0.22923,     0.23023,     0.23123,     0.23223,     0.23323,     0.23423,     0.23524,     0.23624,     0.23724,     0.23824,     0.23924,\n",
              "           0.24024,     0.24124,     0.24224,     0.24324,     0.24424,     0.24525,     0.24625,     0.24725,     0.24825,     0.24925,     0.25025,     0.25125,     0.25225,     0.25325,     0.25425,     0.25526,     0.25626,     0.25726,     0.25826,     0.25926,     0.26026,     0.26126,     0.26226,     0.26326,\n",
              "           0.26426,     0.26527,     0.26627,     0.26727,     0.26827,     0.26927,     0.27027,     0.27127,     0.27227,     0.27327,     0.27427,     0.27528,     0.27628,     0.27728,     0.27828,     0.27928,     0.28028,     0.28128,     0.28228,     0.28328,     0.28428,     0.28529,     0.28629,     0.28729,\n",
              "           0.28829,     0.28929,     0.29029,     0.29129,     0.29229,     0.29329,     0.29429,      0.2953,      0.2963,      0.2973,      0.2983,      0.2993,      0.3003,      0.3013,      0.3023,      0.3033,      0.3043,     0.30531,     0.30631,     0.30731,     0.30831,     0.30931,     0.31031,     0.31131,\n",
              "           0.31231,     0.31331,     0.31431,     0.31532,     0.31632,     0.31732,     0.31832,     0.31932,     0.32032,     0.32132,     0.32232,     0.32332,     0.32432,     0.32533,     0.32633,     0.32733,     0.32833,     0.32933,     0.33033,     0.33133,     0.33233,     0.33333,     0.33433,     0.33534,\n",
              "           0.33634,     0.33734,     0.33834,     0.33934,     0.34034,     0.34134,     0.34234,     0.34334,     0.34434,     0.34535,     0.34635,     0.34735,     0.34835,     0.34935,     0.35035,     0.35135,     0.35235,     0.35335,     0.35435,     0.35536,     0.35636,     0.35736,     0.35836,     0.35936,\n",
              "           0.36036,     0.36136,     0.36236,     0.36336,     0.36436,     0.36537,     0.36637,     0.36737,     0.36837,     0.36937,     0.37037,     0.37137,     0.37237,     0.37337,     0.37437,     0.37538,     0.37638,     0.37738,     0.37838,     0.37938,     0.38038,     0.38138,     0.38238,     0.38338,\n",
              "           0.38438,     0.38539,     0.38639,     0.38739,     0.38839,     0.38939,     0.39039,     0.39139,     0.39239,     0.39339,     0.39439,      0.3954,      0.3964,      0.3974,      0.3984,      0.3994,      0.4004,      0.4014,      0.4024,      0.4034,      0.4044,     0.40541,     0.40641,     0.40741,\n",
              "           0.40841,     0.40941,     0.41041,     0.41141,     0.41241,     0.41341,     0.41441,     0.41542,     0.41642,     0.41742,     0.41842,     0.41942,     0.42042,     0.42142,     0.42242,     0.42342,     0.42442,     0.42543,     0.42643,     0.42743,     0.42843,     0.42943,     0.43043,     0.43143,\n",
              "           0.43243,     0.43343,     0.43443,     0.43544,     0.43644,     0.43744,     0.43844,     0.43944,     0.44044,     0.44144,     0.44244,     0.44344,     0.44444,     0.44545,     0.44645,     0.44745,     0.44845,     0.44945,     0.45045,     0.45145,     0.45245,     0.45345,     0.45445,     0.45546,\n",
              "           0.45646,     0.45746,     0.45846,     0.45946,     0.46046,     0.46146,     0.46246,     0.46346,     0.46446,     0.46547,     0.46647,     0.46747,     0.46847,     0.46947,     0.47047,     0.47147,     0.47247,     0.47347,     0.47447,     0.47548,     0.47648,     0.47748,     0.47848,     0.47948,\n",
              "           0.48048,     0.48148,     0.48248,     0.48348,     0.48448,     0.48549,     0.48649,     0.48749,     0.48849,     0.48949,     0.49049,     0.49149,     0.49249,     0.49349,     0.49449,      0.4955,      0.4965,      0.4975,      0.4985,      0.4995,      0.5005,      0.5015,      0.5025,      0.5035,\n",
              "            0.5045,     0.50551,     0.50651,     0.50751,     0.50851,     0.50951,     0.51051,     0.51151,     0.51251,     0.51351,     0.51451,     0.51552,     0.51652,     0.51752,     0.51852,     0.51952,     0.52052,     0.52152,     0.52252,     0.52352,     0.52452,     0.52553,     0.52653,     0.52753,\n",
              "           0.52853,     0.52953,     0.53053,     0.53153,     0.53253,     0.53353,     0.53453,     0.53554,     0.53654,     0.53754,     0.53854,     0.53954,     0.54054,     0.54154,     0.54254,     0.54354,     0.54454,     0.54555,     0.54655,     0.54755,     0.54855,     0.54955,     0.55055,     0.55155,\n",
              "           0.55255,     0.55355,     0.55455,     0.55556,     0.55656,     0.55756,     0.55856,     0.55956,     0.56056,     0.56156,     0.56256,     0.56356,     0.56456,     0.56557,     0.56657,     0.56757,     0.56857,     0.56957,     0.57057,     0.57157,     0.57257,     0.57357,     0.57457,     0.57558,\n",
              "           0.57658,     0.57758,     0.57858,     0.57958,     0.58058,     0.58158,     0.58258,     0.58358,     0.58458,     0.58559,     0.58659,     0.58759,     0.58859,     0.58959,     0.59059,     0.59159,     0.59259,     0.59359,     0.59459,      0.5956,      0.5966,      0.5976,      0.5986,      0.5996,\n",
              "            0.6006,      0.6016,      0.6026,      0.6036,      0.6046,     0.60561,     0.60661,     0.60761,     0.60861,     0.60961,     0.61061,     0.61161,     0.61261,     0.61361,     0.61461,     0.61562,     0.61662,     0.61762,     0.61862,     0.61962,     0.62062,     0.62162,     0.62262,     0.62362,\n",
              "           0.62462,     0.62563,     0.62663,     0.62763,     0.62863,     0.62963,     0.63063,     0.63163,     0.63263,     0.63363,     0.63463,     0.63564,     0.63664,     0.63764,     0.63864,     0.63964,     0.64064,     0.64164,     0.64264,     0.64364,     0.64464,     0.64565,     0.64665,     0.64765,\n",
              "           0.64865,     0.64965,     0.65065,     0.65165,     0.65265,     0.65365,     0.65465,     0.65566,     0.65666,     0.65766,     0.65866,     0.65966,     0.66066,     0.66166,     0.66266,     0.66366,     0.66466,     0.66567,     0.66667,     0.66767,     0.66867,     0.66967,     0.67067,     0.67167,\n",
              "           0.67267,     0.67367,     0.67467,     0.67568,     0.67668,     0.67768,     0.67868,     0.67968,     0.68068,     0.68168,     0.68268,     0.68368,     0.68468,     0.68569,     0.68669,     0.68769,     0.68869,     0.68969,     0.69069,     0.69169,     0.69269,     0.69369,     0.69469,      0.6957,\n",
              "            0.6967,      0.6977,      0.6987,      0.6997,      0.7007,      0.7017,      0.7027,      0.7037,      0.7047,     0.70571,     0.70671,     0.70771,     0.70871,     0.70971,     0.71071,     0.71171,     0.71271,     0.71371,     0.71471,     0.71572,     0.71672,     0.71772,     0.71872,     0.71972,\n",
              "           0.72072,     0.72172,     0.72272,     0.72372,     0.72472,     0.72573,     0.72673,     0.72773,     0.72873,     0.72973,     0.73073,     0.73173,     0.73273,     0.73373,     0.73473,     0.73574,     0.73674,     0.73774,     0.73874,     0.73974,     0.74074,     0.74174,     0.74274,     0.74374,\n",
              "           0.74474,     0.74575,     0.74675,     0.74775,     0.74875,     0.74975,     0.75075,     0.75175,     0.75275,     0.75375,     0.75475,     0.75576,     0.75676,     0.75776,     0.75876,     0.75976,     0.76076,     0.76176,     0.76276,     0.76376,     0.76476,     0.76577,     0.76677,     0.76777,\n",
              "           0.76877,     0.76977,     0.77077,     0.77177,     0.77277,     0.77377,     0.77477,     0.77578,     0.77678,     0.77778,     0.77878,     0.77978,     0.78078,     0.78178,     0.78278,     0.78378,     0.78478,     0.78579,     0.78679,     0.78779,     0.78879,     0.78979,     0.79079,     0.79179,\n",
              "           0.79279,     0.79379,     0.79479,      0.7958,      0.7968,      0.7978,      0.7988,      0.7998,      0.8008,      0.8018,      0.8028,      0.8038,      0.8048,     0.80581,     0.80681,     0.80781,     0.80881,     0.80981,     0.81081,     0.81181,     0.81281,     0.81381,     0.81481,     0.81582,\n",
              "           0.81682,     0.81782,     0.81882,     0.81982,     0.82082,     0.82182,     0.82282,     0.82382,     0.82482,     0.82583,     0.82683,     0.82783,     0.82883,     0.82983,     0.83083,     0.83183,     0.83283,     0.83383,     0.83483,     0.83584,     0.83684,     0.83784,     0.83884,     0.83984,\n",
              "           0.84084,     0.84184,     0.84284,     0.84384,     0.84484,     0.84585,     0.84685,     0.84785,     0.84885,     0.84985,     0.85085,     0.85185,     0.85285,     0.85385,     0.85485,     0.85586,     0.85686,     0.85786,     0.85886,     0.85986,     0.86086,     0.86186,     0.86286,     0.86386,\n",
              "           0.86486,     0.86587,     0.86687,     0.86787,     0.86887,     0.86987,     0.87087,     0.87187,     0.87287,     0.87387,     0.87487,     0.87588,     0.87688,     0.87788,     0.87888,     0.87988,     0.88088,     0.88188,     0.88288,     0.88388,     0.88488,     0.88589,     0.88689,     0.88789,\n",
              "           0.88889,     0.88989,     0.89089,     0.89189,     0.89289,     0.89389,     0.89489,      0.8959,      0.8969,      0.8979,      0.8989,      0.8999,      0.9009,      0.9019,      0.9029,      0.9039,      0.9049,     0.90591,     0.90691,     0.90791,     0.90891,     0.90991,     0.91091,     0.91191,\n",
              "           0.91291,     0.91391,     0.91491,     0.91592,     0.91692,     0.91792,     0.91892,     0.91992,     0.92092,     0.92192,     0.92292,     0.92392,     0.92492,     0.92593,     0.92693,     0.92793,     0.92893,     0.92993,     0.93093,     0.93193,     0.93293,     0.93393,     0.93493,     0.93594,\n",
              "           0.93694,     0.93794,     0.93894,     0.93994,     0.94094,     0.94194,     0.94294,     0.94394,     0.94494,     0.94595,     0.94695,     0.94795,     0.94895,     0.94995,     0.95095,     0.95195,     0.95295,     0.95395,     0.95495,     0.95596,     0.95696,     0.95796,     0.95896,     0.95996,\n",
              "           0.96096,     0.96196,     0.96296,     0.96396,     0.96496,     0.96597,     0.96697,     0.96797,     0.96897,     0.96997,     0.97097,     0.97197,     0.97297,     0.97397,     0.97497,     0.97598,     0.97698,     0.97798,     0.97898,     0.97998,     0.98098,     0.98198,     0.98298,     0.98398,\n",
              "           0.98498,     0.98599,     0.98699,     0.98799,     0.98899,     0.98999,     0.99099,     0.99199,     0.99299,     0.99399,     0.99499,       0.996,       0.997,       0.998,       0.999,           1]), array([[    0.97221,     0.97221,     0.97084,     0.97039,     0.96948,     0.96811,      0.9672,      0.9672,     0.96629,     0.96629,     0.96583,     0.96538,     0.96538,     0.96492,     0.96446,     0.96401,      0.9631,     0.96219,     0.96219,     0.96219,     0.96219,     0.96219,     0.96219,\n",
              "            0.96219,     0.96219,     0.96219,     0.96219,     0.96219,     0.96219,     0.96219,     0.96173,     0.96173,     0.96173,     0.96173,     0.96173,     0.96173,     0.96173,     0.96128,     0.96082,     0.96082,     0.96082,     0.95991,     0.95991,     0.95991,     0.95991,     0.95991,\n",
              "            0.95988,     0.95945,     0.95945,     0.95945,     0.95945,     0.95945,     0.95945,     0.95945,       0.959,       0.959,     0.95854,     0.95854,     0.95854,     0.95854,     0.95809,     0.95809,     0.95809,     0.95809,     0.95809,     0.95809,     0.95809,     0.95809,     0.95809,\n",
              "            0.95809,     0.95809,     0.95809,     0.95763,     0.95761,     0.95718,     0.95672,     0.95672,     0.95672,     0.95672,     0.95672,     0.95672,     0.95672,     0.95627,     0.95626,     0.95626,     0.95626,     0.95626,     0.95626,     0.95626,     0.95626,     0.95535,     0.95535,\n",
              "            0.95535,     0.95535,     0.95508,      0.9549,     0.95444,     0.95444,     0.95399,     0.95399,     0.95399,     0.95399,     0.95353,     0.95353,     0.95353,     0.95353,     0.95353,     0.95353,     0.95353,     0.95353,     0.95353,     0.95353,     0.95353,     0.95353,     0.95353,\n",
              "            0.95353,     0.95308,     0.95308,     0.95308,     0.95308,     0.95308,     0.95308,     0.95308,     0.95308,     0.95308,     0.95308,     0.95308,     0.95308,     0.95308,     0.95308,     0.95308,     0.95262,     0.95262,     0.95262,     0.95262,     0.95262,     0.95262,     0.95262,\n",
              "            0.95262,     0.95262,     0.95262,     0.95262,     0.95262,     0.95262,     0.95218,     0.95216,     0.95214,     0.95171,     0.95171,     0.95171,     0.95171,     0.95171,     0.95171,     0.95171,     0.95169,     0.95153,     0.95137,     0.95122,      0.9508,      0.9508,      0.9508,\n",
              "             0.9508,      0.9508,      0.9508,      0.9508,      0.9508,      0.9508,     0.95072,     0.95058,     0.95045,     0.95034,     0.95034,     0.95034,     0.95034,        0.95,     0.94989,     0.94989,     0.94989,     0.94989,     0.94989,     0.94989,     0.94989,     0.94989,     0.94989,\n",
              "            0.94989,     0.94989,     0.94989,     0.94989,     0.94989,     0.94989,     0.94989,     0.94989,     0.94977,     0.94965,     0.94952,     0.94943,     0.94943,     0.94943,     0.94943,     0.94943,     0.94943,     0.94943,     0.94943,     0.94943,     0.94943,     0.94943,     0.94943,\n",
              "            0.94943,     0.94943,     0.94943,     0.94943,     0.94943,     0.94916,     0.94897,     0.94897,     0.94897,     0.94897,     0.94897,     0.94897,     0.94897,     0.94897,     0.94897,     0.94892,     0.94858,      0.9483,     0.94806,     0.94781,     0.94761,     0.94761,     0.94761,\n",
              "            0.94761,     0.94761,     0.94761,     0.94761,     0.94761,      0.9475,     0.94737,     0.94724,     0.94705,     0.94674,      0.9467,      0.9467,      0.9467,      0.9467,      0.9467,     0.94643,     0.94624,     0.94624,     0.94624,     0.94624,     0.94624,     0.94624,     0.94624,\n",
              "            0.94624,     0.94579,     0.94579,     0.94533,     0.94533,     0.94533,     0.94533,     0.94533,     0.94533,     0.94533,     0.94513,     0.94487,     0.94487,     0.94487,     0.94487,     0.94487,     0.94487,     0.94487,     0.94487,     0.94487,     0.94487,     0.94487,     0.94487,\n",
              "            0.94487,     0.94487,     0.94487,     0.94487,     0.94487,     0.94487,     0.94487,     0.94487,     0.94487,     0.94487,     0.94487,     0.94485,      0.9448,     0.94475,      0.9447,     0.94465,      0.9446,     0.94455,      0.9445,     0.94445,     0.94442,     0.94442,     0.94442,\n",
              "            0.94442,     0.94419,     0.94351,     0.94351,     0.94351,     0.94351,     0.94351,     0.94351,     0.94351,     0.94351,     0.94305,     0.94292,     0.94265,      0.9426,      0.9426,      0.9426,      0.9426,      0.9426,      0.9426,      0.9426,      0.9426,      0.9426,      0.9426,\n",
              "             0.9426,      0.9426,      0.9426,      0.9426,      0.9426,      0.9426,     0.94253,     0.94242,     0.94232,     0.94221,     0.94214,     0.94214,     0.94214,     0.94214,     0.94214,     0.94169,     0.94169,     0.94169,     0.94169,     0.94136,     0.94077,     0.94077,     0.94077,\n",
              "            0.94077,     0.94077,     0.94077,     0.94077,     0.94077,     0.94077,     0.94077,     0.94077,     0.94077,     0.94077,     0.94077,     0.94077,      0.9406,     0.94033,     0.94032,     0.94032,     0.94032,     0.94032,     0.94032,     0.94032,     0.94032,     0.94032,     0.94032,\n",
              "            0.94032,     0.94032,     0.94026,     0.94003,     0.93986,     0.93984,     0.93975,     0.93967,     0.93958,      0.9395,     0.93941,     0.93941,     0.93941,     0.93941,     0.93941,     0.93941,     0.93935,     0.93918,     0.93901,     0.93839,     0.93824,     0.93808,     0.93758,\n",
              "            0.93747,     0.93735,     0.93723,     0.93706,     0.93667,     0.93649,     0.93622,     0.93611,     0.93588,     0.93576,     0.93576,     0.93576,     0.93576,     0.93576,     0.93576,     0.93576,     0.93576,     0.93576,     0.93576,     0.93576,     0.93576,     0.93576,     0.93576,\n",
              "            0.93576,     0.93576,     0.93576,     0.93576,     0.93576,     0.93576,     0.93531,     0.93531,     0.93531,     0.93531,     0.93531,     0.93531,     0.93531,     0.93531,     0.93531,     0.93531,     0.93531,     0.93531,     0.93531,     0.93531,     0.93531,     0.93507,     0.93475,\n",
              "             0.9346,     0.93444,     0.93423,       0.934,     0.93394,     0.93394,     0.93394,     0.93394,     0.93394,     0.93394,     0.93394,     0.93394,     0.93394,     0.93394,     0.93394,     0.93394,     0.93394,     0.93394,     0.93394,     0.93394,     0.93394,     0.93394,     0.93394,\n",
              "            0.93394,     0.93394,     0.93394,     0.93387,     0.93376,     0.93364,     0.93352,     0.93338,     0.93323,     0.93307,     0.93303,     0.93303,     0.93303,     0.93265,     0.93257,     0.93257,     0.93257,     0.93257,     0.93257,     0.93257,     0.93257,     0.93257,     0.93257,\n",
              "            0.93257,     0.93257,     0.93206,     0.93166,     0.93166,     0.93166,     0.93166,     0.93166,     0.93121,     0.93121,     0.93117,     0.93105,     0.93094,     0.93082,     0.93075,     0.93075,     0.93075,     0.93075,     0.93075,     0.93062,     0.93039,      0.9303,      0.9303,\n",
              "             0.9303,     0.93019,     0.93004,     0.92988,     0.92949,     0.92938,     0.92938,     0.92938,     0.92938,     0.92898,     0.92851,     0.92847,     0.92847,     0.92847,     0.92847,     0.92847,     0.92756,     0.92756,     0.92756,     0.92709,     0.92693,     0.92677,      0.9261,\n",
              "            0.92437,     0.92437,     0.92424,     0.92385,     0.92361,     0.92341,     0.92325,      0.9231,     0.92301,     0.92255,     0.92255,     0.92255,     0.92231,     0.92197,     0.92173,     0.92114,     0.92108,     0.92101,     0.92094,     0.92088,     0.92081,     0.92074,     0.92037,\n",
              "            0.92018,     0.92006,     0.91995,     0.91983,     0.91908,     0.91871,     0.91845,       0.918,     0.91792,     0.91776,     0.91761,     0.91695,     0.91672,     0.91603,     0.91579,     0.91495,     0.91448,      0.9139,      0.9139,      0.9139,      0.9139,      0.9139,      0.9135,\n",
              "            0.91344,     0.91344,     0.91256,     0.91231,     0.91208,     0.91162,     0.91158,      0.9109,     0.91071,     0.91071,     0.91063,     0.91052,      0.9104,     0.91028,     0.90946,     0.90899,      0.9087,     0.90847,     0.90805,     0.90778,     0.90754,     0.90661,     0.90641,\n",
              "            0.90594,     0.90524,       0.905,     0.90478,     0.90478,     0.90387,     0.90328,     0.90304,     0.90291,     0.90284,     0.90277,      0.9027,     0.90263,     0.90256,     0.90236,      0.9019,     0.90097,     0.90051,      0.9001,     0.89979,     0.89963,     0.89947,     0.89885,\n",
              "            0.89793,     0.89746,     0.89658,     0.89655,     0.89624,     0.89582,     0.89536,      0.8946,     0.89436,     0.89431,     0.89385,     0.89325,     0.89286,     0.89263,     0.89185,     0.89093,      0.8898,     0.88953,      0.8893,     0.88884,     0.88792,     0.88773,     0.88755,\n",
              "            0.88733,      0.8871,     0.88671,      0.8864,     0.88617,     0.88508,     0.88416,      0.8833,     0.88307,      0.8826,     0.88207,     0.88114,     0.88068,     0.88018,     0.87997,     0.87916,     0.87893,      0.8772,     0.87563,     0.87513,     0.87424,     0.87405,     0.87386,\n",
              "            0.87349,     0.87273,      0.8725,     0.86867,      0.8682,     0.86774,     0.86732,     0.86701,     0.86656,     0.86519,     0.86486,     0.86367,     0.86344,     0.86104,     0.85966,     0.85783,     0.85686,      0.8553,     0.85392,     0.85345,     0.85139,      0.8491,     0.84762,\n",
              "            0.84703,      0.8452,     0.84303,     0.84221,     0.84129,     0.83882,     0.83694,     0.83465,     0.83213,     0.83167,     0.83097,     0.82914,     0.82818,     0.82706,      0.8266,     0.82141,      0.8186,     0.81577,     0.81259,     0.81236,     0.80717,     0.80128,     0.80097,\n",
              "             0.7987,     0.79778,      0.7898,     0.78413,     0.78317,     0.77724,     0.77392,     0.77369,     0.76672,     0.75985,     0.75918,     0.75462,     0.74253,     0.74062,     0.73303,     0.72245,     0.71971,     0.71137,      0.7067,      0.6978,     0.69308,     0.68753,      0.6775,\n",
              "             0.6604,     0.65609,     0.64603,     0.63167,     0.61867,     0.61499,     0.60566,     0.59791,     0.58263,     0.57481,     0.56598,     0.55071,     0.53875,     0.53087,     0.51514,     0.50269,     0.49712,     0.48458,     0.47392,     0.46839,     0.45201,     0.44695,      0.4376,\n",
              "            0.43235,     0.42185,     0.41706,     0.40771,     0.40592,     0.39858,     0.39622,     0.39286,     0.38761,     0.38568,     0.37893,     0.37834,      0.3764,     0.37252,     0.37053,     0.36739,     0.36502,      0.3645,     0.36133,      0.3581,     0.35581,     0.35032,     0.34918,\n",
              "            0.34481,     0.34278,      0.3393,      0.3382,      0.3347,     0.33317,      0.3301,     0.32905,     0.32595,     0.32447,     0.31953,     0.31807,     0.31447,     0.31303,     0.30941,     0.30777,     0.30572,     0.30274,     0.30112,      0.2993,     0.29697,     0.29331,     0.29174,\n",
              "            0.28825,     0.28557,     0.28365,     0.28103,     0.28072,     0.27902,      0.2769,     0.27659,     0.27531,     0.27364,     0.27299,     0.27202,     0.27078,     0.26903,     0.26743,     0.26681,     0.26647,     0.26375,      0.2633,     0.26307,     0.26274,     0.26089,     0.25959,\n",
              "            0.25902,     0.25735,     0.25711,     0.25549,     0.25518,     0.25411,      0.2538,     0.25066,     0.24878,     0.24755,      0.2465,     0.24465,     0.24122,      0.2364,     0.23365,     0.23089,     0.22768,     0.22453,     0.22353,     0.21759,     0.21347,     0.20889,     0.20066,\n",
              "            0.19244,     0.18194,     0.16962,     0.15775,     0.14634,     0.13902,     0.12852,     0.11711,     0.10843,    0.087452,    0.079229,    0.071005,    0.058682,     0.05137,    0.046336,    0.041757,    0.039456,    0.035789,    0.033033,      0.0304,    0.029798,    0.026586,    0.026166,\n",
              "           0.025799,    0.024695,    0.024391,    0.024158,    0.023247,    0.021641,    0.020263,    0.018209,    0.017898,    0.015401,    0.014751,    0.014284,    0.014076,    0.014004,    0.013932,     0.01386,    0.013789,    0.013717,    0.013521,    0.013054,    0.012756,    0.012756,    0.012756,\n",
              "           0.012756,    0.012756,    0.012756,    0.012679,    0.012601,    0.012523,    0.012445,    0.012367,    0.012281,    0.012148,    0.012015,    0.011881,     0.01182,    0.011785,    0.011751,    0.011716,    0.011682,    0.011647,    0.011612,    0.011578,    0.011543,    0.011509,    0.011474,\n",
              "           0.011439,    0.011405,    0.011357,    0.011299,     0.01124,    0.011182,    0.011123,    0.011065,    0.011007,    0.010948,    0.010758,    0.010524,     0.01041,    0.010325,     0.01024,    0.010155,    0.010071,   0.0099887,   0.0099109,   0.0098331,   0.0097552,   0.0096774,   0.0095996,\n",
              "          0.0085662,   0.0081058,   0.0079501,   0.0077944,   0.0077146,   0.0076701,   0.0076256,   0.0075811,   0.0075367,   0.0074922,   0.0074477,   0.0074032,   0.0073588,   0.0073143,   0.0072552,   0.0071774,   0.0070995,   0.0070217,   0.0069439,   0.0068661,   0.0063631,   0.0062074,   0.0060518,\n",
              "          0.0058908,    0.005704,   0.0055172,   0.0054182,   0.0053515,   0.0052848,   0.0052181,   0.0051514,   0.0050846,   0.0050179,   0.0047306,   0.0041463,   0.0035005,   0.0031892,   0.0030557,   0.0029223,   0.0027889,   0.0021868,   0.0020312,   0.0018755,   0.0012076,  0.00078365,  0.00059686,\n",
              "                  0,           0,           0,           0,           0,           0,           0,           0,           0,           0,           0]]), 'Confidence', 'Recall']]\n",
              "fitness: np.float64(0.7058020713222943)\n",
              "keys: ['metrics/precision(B)', 'metrics/recall(B)', 'metrics/mAP50(B)', 'metrics/mAP50-95(B)']\n",
              "maps: array([      0.677])\n",
              "names: {0: 'License_Plate'}\n",
              "plot: True\n",
              "results_dict: {'metrics/precision(B)': np.float64(0.9709229733539665), 'metrics/recall(B)': np.float64(0.929384965831435), 'metrics/mAP50(B)': np.float64(0.9650558561309803), 'metrics/mAP50-95(B)': np.float64(0.6769960952324403), 'fitness': np.float64(0.7058020713222943)}\n",
              "save_dir: PosixPath('runs/detect/train')\n",
              "speed: {'preprocess': 0.16792337402282698, 'inference': 6.841678849122346, 'loss': 0.0032728501002665666, 'postprocess': 1.1222442387697207}\n",
              "task: 'detect'"
            ]
          },
          "metadata": {},
          "execution_count": 10
        }
      ]
    },
    {
      "cell_type": "code",
      "source": [
        "import shutil\n",
        "shutil.copytree('/content/runs', '/content/drive/MyDrive/runs_for_10000')\n"
      ],
      "metadata": {
        "colab": {
          "base_uri": "https://localhost:8080/",
          "height": 36
        },
        "id": "TSikuKMzn8fZ",
        "outputId": "111e958f-4eb4-4c19-f311-690e9da0e1e4"
      },
      "execution_count": 14,
      "outputs": [
        {
          "output_type": "execute_result",
          "data": {
            "text/plain": [
              "'/content/drive/MyDrive/runs_for_10000'"
            ],
            "application/vnd.google.colaboratory.intrinsic+json": {
              "type": "string"
            }
          },
          "metadata": {},
          "execution_count": 14
        }
      ]
    },
    {
      "cell_type": "code",
      "source": [],
      "metadata": {
        "id": "JBxyrZCRPqpl"
      },
      "execution_count": null,
      "outputs": []
    },
    {
      "cell_type": "code",
      "source": [
        "from google.colab import drive\n",
        "drive.mount('/content/drive')"
      ],
      "metadata": {
        "id": "DXJQV314QmR-",
        "outputId": "37a1bc55-b870-4078-b67f-93e93f06b9a6",
        "colab": {
          "base_uri": "https://localhost:8080/"
        }
      },
      "execution_count": 13,
      "outputs": [
        {
          "output_type": "stream",
          "name": "stdout",
          "text": [
            "Mounted at /content/drive\n"
          ]
        }
      ]
    },
    {
      "cell_type": "code",
      "source": [
        "from ultralytics import YOLO\n",
        "\n",
        "model = YOLO(\"/content/drive/MyDrive/numebr_plate_detection/runs/detect/train/weights/best.pt\")\n",
        "\n",
        "model.predict(source= \"/content/PCS_Kennzeichenerk_handsfree.jpeg\", show=True, save= True, conf=0.6, save_crop=True)"
      ],
      "metadata": {
        "colab": {
          "base_uri": "https://localhost:8080/"
        },
        "id": "DsTc15yso1Vn",
        "outputId": "14fe5690-f1a8-48d3-f086-7d75c4bd01a2",
        "collapsed": true
      },
      "execution_count": null,
      "outputs": [
        {
          "output_type": "stream",
          "name": "stdout",
          "text": [
            "WARNING ⚠️ Environment does not support cv2.imshow() or PIL Image.show()\n",
            "\n",
            "\n",
            "image 1/1 /content/PCS_Kennzeichenerk_handsfree.jpeg: 448x640 1 LicensePlate, 49.7ms\n",
            "Speed: 2.7ms preprocess, 49.7ms inference, 1.5ms postprocess per image at shape (1, 3, 448, 640)\n",
            "Results saved to \u001b[1mruns/detect/predict\u001b[0m\n"
          ]
        },
        {
          "output_type": "execute_result",
          "data": {
            "text/plain": [
              "[ultralytics.engine.results.Results object with attributes:\n",
              " \n",
              " boxes: ultralytics.engine.results.Boxes object\n",
              " keypoints: None\n",
              " masks: None\n",
              " names: {0: 'LicensePlate'}\n",
              " obb: None\n",
              " orig_img: array([[[169, 163, 158],\n",
              "         [170, 164, 159],\n",
              "         [170, 164, 159],\n",
              "         ...,\n",
              "         [ 95,  97,  97],\n",
              "         [196, 191, 190],\n",
              "         [216, 208, 208]],\n",
              " \n",
              "        [[169, 163, 158],\n",
              "         [169, 163, 158],\n",
              "         [169, 163, 158],\n",
              "         ...,\n",
              "         [150, 148, 148],\n",
              "         [198, 193, 192],\n",
              "         [211, 203, 203]],\n",
              " \n",
              "        [[169, 163, 158],\n",
              "         [169, 163, 158],\n",
              "         [168, 162, 157],\n",
              "         ...,\n",
              "         [214, 206, 206],\n",
              "         [205, 200, 199],\n",
              "         [205, 200, 199]],\n",
              " \n",
              "        ...,\n",
              " \n",
              "        [[ 89,  93,  98],\n",
              "         [ 90,  94,  99],\n",
              "         [ 98, 102, 107],\n",
              "         ...,\n",
              "         [149, 159, 166],\n",
              "         [149, 158, 167],\n",
              "         [113, 122, 131]],\n",
              " \n",
              "        [[ 87,  91,  96],\n",
              "         [ 84,  88,  93],\n",
              "         [ 90,  94,  99],\n",
              "         ...,\n",
              "         [ 88,  98, 105],\n",
              "         [ 98, 107, 116],\n",
              "         [ 87,  96, 105]],\n",
              " \n",
              "        [[ 85,  89,  94],\n",
              "         [ 92,  96, 101],\n",
              "         [ 80,  84,  89],\n",
              "         ...,\n",
              "         [105, 113, 120],\n",
              "         [112, 121, 130],\n",
              "         [122, 131, 140]]], dtype=uint8)\n",
              " orig_shape: (1431, 2076)\n",
              " path: '/content/PCS_Kennzeichenerk_handsfree.jpeg'\n",
              " probs: None\n",
              " save_dir: 'runs/detect/predict'\n",
              " speed: {'preprocess': 2.734508000230562, 'inference': 49.695825000071636, 'postprocess': 1.4659970001957845}]"
            ]
          },
          "metadata": {},
          "execution_count": 8
        }
      ]
    },
    {
      "cell_type": "code",
      "source": [
        "from itertools import count\n",
        "from ultralytics import YOLO\n",
        "import os\n",
        "import cv2\n",
        "from google.colab.patches import cv2_imshow\n",
        "# Path to the input image\n",
        "path1 = \"/content/Datacluster_number_plates (1).jpg\"\n",
        "\n",
        "# Load the model\n",
        "model = YOLO(\"/content/drive/MyDrive/numebr_plate_detection/runs/detect/train/weights/best.pt\")\n",
        "\n",
        "# Perform prediction\n",
        "results = model.predict(source=path1, show=True, save=True, save_crop=True )\n",
        "# Load the original image\n",
        "image = cv2.imread(path1)\n",
        "\n",
        "count=0\n",
        "# Loop through the predictions to get the bounding boxes and crop the images\n",
        "for result in results:\n",
        "    for box in result.boxes:\n",
        "        x1, y1, x2, y2 = map(int, box.xyxy[0][:4].tolist())\n",
        "\n",
        "        # Crop the image\n",
        "        cropped_image = image[y1:y2, x1:x2]\n",
        "\n",
        "        # Display the cropped image (optional)\n",
        "        cv2_imshow( cropped_image)\n",
        "        cv2.waitKey(0)\n",
        "        cv2.destroyAllWindows()"
      ],
      "metadata": {
        "id": "88HhNX6R8znv"
      },
      "execution_count": null,
      "outputs": []
    }
  ]
}